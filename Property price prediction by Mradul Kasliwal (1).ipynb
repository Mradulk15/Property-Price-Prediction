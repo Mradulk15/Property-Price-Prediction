{
 "cells": [
  {
   "cell_type": "markdown",
   "id": "581d989a",
   "metadata": {},
   "source": [
    "# Property Price Prediction System using Multiple Regression Models"
   ]
  },
  {
   "cell_type": "markdown",
   "id": "6bf3a057",
   "metadata": {},
   "source": [
    "# \n",
    "\n",
    "# STEP 1 : Importing the required Packages into our Python Environment\n",
    "### Libraries: These are frameworks in python to handle commonly required tasks. I Import any budding data scientists to familiarise themselves with these libraries:\n",
    "### Pandas — For handling structured data\n",
    "### NumPy — For linear algebra and mathematics\n",
    "### Seaborn — For data visualization\n",
    "### Matplotlib —  For data visualisation graphical plotting library\n",
    "### Scikit Learn — For machine learning"
   ]
  },
  {
   "cell_type": "code",
   "execution_count": 426,
   "id": "4ea0232a",
   "metadata": {},
   "outputs": [],
   "source": [
    "#import required libraries\n",
    "import numpy as np\n",
    "import seaborn as sns\n",
    "import pandas as pd\n",
    "import matplotlib.pyplot as plt\n",
    "\n",
    "import statistics as sts\n",
    "import math as mt\n",
    "import warnings\n",
    "warnings.filterwarnings('ignore')"
   ]
  },
  {
   "cell_type": "markdown",
   "id": "7c6a1860",
   "metadata": {},
   "source": [
    "# STEP 2 : Importing Data and EDA\n",
    "## Importing the property prediction data and do some EDA on it\n",
    "## First, Let’s import the data and have a look to see what kind of data we are dealing with:"
   ]
  },
  {
   "cell_type": "markdown",
   "id": "73ad649f",
   "metadata": {},
   "source": [
    "# \n",
    "\n",
    "### Data Description:\n",
    "\n",
    "### Train.csv - 29451 rows x 12 columns\n",
    "### Test.csv - 68720 rows x 11 columns\n"
   ]
  },
  {
   "cell_type": "markdown",
   "id": "93da0d16",
   "metadata": {},
   "source": [
    "# Attributes Description:"
   ]
  },
  {
   "cell_type": "code",
   "execution_count": 427,
   "id": "4803fde1",
   "metadata": {},
   "outputs": [
    {
     "data": {
      "image/png": "[encoded data removed]",
      "text/plain": [
       "<IPython.core.display.Image object>"
      ]
     },
     "execution_count": 427,
     "metadata": {},
     "output_type": "execute_result"
    }
   ],
   "source": [
    "from IPython import display\n",
    "display.Image(\"Attributes.png\")"
   ]
  },
  {
   "cell_type": "code",
   "execution_count": 428,
   "id": "192d63e0",
   "metadata": {},
   "outputs": [],
   "source": [
    "#import Data\n",
    "House_train_data = pd.read_csv('House Price train.csv')"
   ]
  },
  {
   "cell_type": "code",
   "execution_count": 429,
   "id": "354280e6",
   "metadata": {},
   "outputs": [
    {
     "data": {
      "text/html": [
       "<div>\n",
       "<style scoped>\n",
       "    .dataframe tbody tr th:only-of-type {\n",
       "        vertical-align: middle;\n",
       "    }\n",
       "\n",
       "    .dataframe tbody tr th {\n",
       "        vertical-align: top;\n",
       "    }\n",
       "\n",
       "    .dataframe thead th {\n",
       "        text-align: right;\n",
       "    }\n",
       "</style>\n",
       "<table border=\"1\" class=\"dataframe\">\n",
       "  <thead>\n",
       "    <tr style=\"text-align: right;\">\n",
       "      <th></th>\n",
       "      <th>POSTED_BY</th>\n",
       "      <th>UNDER_CONSTRUCTION</th>\n",
       "      <th>RERA</th>\n",
       "      <th>BHK_NO.</th>\n",
       "      <th>BHK_OR_RK</th>\n",
       "      <th>SQUARE_FT</th>\n",
       "      <th>READY_TO_MOVE</th>\n",
       "      <th>RESALE</th>\n",
       "      <th>ADDRESS</th>\n",
       "      <th>LONGITUDE</th>\n",
       "      <th>LATITUDE</th>\n",
       "      <th>TARGET(PRICE_IN_LACS)</th>\n",
       "    </tr>\n",
       "  </thead>\n",
       "  <tbody>\n",
       "    <tr>\n",
       "      <th>0</th>\n",
       "      <td>Owner</td>\n",
       "      <td>0</td>\n",
       "      <td>0</td>\n",
       "      <td>2</td>\n",
       "      <td>BHK</td>\n",
       "      <td>1300.236407</td>\n",
       "      <td>1</td>\n",
       "      <td>1</td>\n",
       "      <td>Ksfc Layout,Bangalore</td>\n",
       "      <td>12.969910</td>\n",
       "      <td>77.597960</td>\n",
       "      <td>55.0</td>\n",
       "    </tr>\n",
       "    <tr>\n",
       "      <th>1</th>\n",
       "      <td>Dealer</td>\n",
       "      <td>0</td>\n",
       "      <td>0</td>\n",
       "      <td>2</td>\n",
       "      <td>BHK</td>\n",
       "      <td>1275.000000</td>\n",
       "      <td>1</td>\n",
       "      <td>1</td>\n",
       "      <td>Vishweshwara Nagar,Mysore</td>\n",
       "      <td>12.274538</td>\n",
       "      <td>76.644605</td>\n",
       "      <td>51.0</td>\n",
       "    </tr>\n",
       "    <tr>\n",
       "      <th>2</th>\n",
       "      <td>Owner</td>\n",
       "      <td>0</td>\n",
       "      <td>0</td>\n",
       "      <td>2</td>\n",
       "      <td>BHK</td>\n",
       "      <td>933.159722</td>\n",
       "      <td>1</td>\n",
       "      <td>1</td>\n",
       "      <td>Jigani,Bangalore</td>\n",
       "      <td>12.778033</td>\n",
       "      <td>77.632191</td>\n",
       "      <td>43.0</td>\n",
       "    </tr>\n",
       "    <tr>\n",
       "      <th>3</th>\n",
       "      <td>Owner</td>\n",
       "      <td>0</td>\n",
       "      <td>1</td>\n",
       "      <td>2</td>\n",
       "      <td>BHK</td>\n",
       "      <td>929.921143</td>\n",
       "      <td>1</td>\n",
       "      <td>1</td>\n",
       "      <td>Sector-1 Vaishali,Ghaziabad</td>\n",
       "      <td>28.642300</td>\n",
       "      <td>77.344500</td>\n",
       "      <td>62.5</td>\n",
       "    </tr>\n",
       "    <tr>\n",
       "      <th>4</th>\n",
       "      <td>Dealer</td>\n",
       "      <td>1</td>\n",
       "      <td>0</td>\n",
       "      <td>2</td>\n",
       "      <td>BHK</td>\n",
       "      <td>999.009247</td>\n",
       "      <td>0</td>\n",
       "      <td>1</td>\n",
       "      <td>New Town,Kolkata</td>\n",
       "      <td>22.592200</td>\n",
       "      <td>88.484911</td>\n",
       "      <td>60.5</td>\n",
       "    </tr>\n",
       "    <tr>\n",
       "      <th>...</th>\n",
       "      <td>...</td>\n",
       "      <td>...</td>\n",
       "      <td>...</td>\n",
       "      <td>...</td>\n",
       "      <td>...</td>\n",
       "      <td>...</td>\n",
       "      <td>...</td>\n",
       "      <td>...</td>\n",
       "      <td>...</td>\n",
       "      <td>...</td>\n",
       "      <td>...</td>\n",
       "      <td>...</td>\n",
       "    </tr>\n",
       "    <tr>\n",
       "      <th>29446</th>\n",
       "      <td>Owner</td>\n",
       "      <td>0</td>\n",
       "      <td>0</td>\n",
       "      <td>3</td>\n",
       "      <td>BHK</td>\n",
       "      <td>2500.000000</td>\n",
       "      <td>1</td>\n",
       "      <td>1</td>\n",
       "      <td>Shamshabad Road,Agra</td>\n",
       "      <td>27.140626</td>\n",
       "      <td>78.043277</td>\n",
       "      <td>45.0</td>\n",
       "    </tr>\n",
       "    <tr>\n",
       "      <th>29447</th>\n",
       "      <td>Owner</td>\n",
       "      <td>0</td>\n",
       "      <td>0</td>\n",
       "      <td>2</td>\n",
       "      <td>BHK</td>\n",
       "      <td>769.230769</td>\n",
       "      <td>1</td>\n",
       "      <td>1</td>\n",
       "      <td>E3-108, Lake View Recidency,,Vapi</td>\n",
       "      <td>39.945409</td>\n",
       "      <td>-86.150721</td>\n",
       "      <td>16.0</td>\n",
       "    </tr>\n",
       "    <tr>\n",
       "      <th>29448</th>\n",
       "      <td>Dealer</td>\n",
       "      <td>0</td>\n",
       "      <td>0</td>\n",
       "      <td>2</td>\n",
       "      <td>BHK</td>\n",
       "      <td>1022.641509</td>\n",
       "      <td>1</td>\n",
       "      <td>1</td>\n",
       "      <td>Ajmer Road,Jaipur</td>\n",
       "      <td>26.928785</td>\n",
       "      <td>75.828002</td>\n",
       "      <td>27.1</td>\n",
       "    </tr>\n",
       "    <tr>\n",
       "      <th>29449</th>\n",
       "      <td>Owner</td>\n",
       "      <td>0</td>\n",
       "      <td>0</td>\n",
       "      <td>2</td>\n",
       "      <td>BHK</td>\n",
       "      <td>927.079009</td>\n",
       "      <td>1</td>\n",
       "      <td>1</td>\n",
       "      <td>Sholinganallur,Chennai</td>\n",
       "      <td>12.900150</td>\n",
       "      <td>80.227910</td>\n",
       "      <td>67.0</td>\n",
       "    </tr>\n",
       "    <tr>\n",
       "      <th>29450</th>\n",
       "      <td>Dealer</td>\n",
       "      <td>0</td>\n",
       "      <td>1</td>\n",
       "      <td>2</td>\n",
       "      <td>BHK</td>\n",
       "      <td>896.774194</td>\n",
       "      <td>1</td>\n",
       "      <td>1</td>\n",
       "      <td>Jagatpura,Jaipur</td>\n",
       "      <td>26.832353</td>\n",
       "      <td>75.841749</td>\n",
       "      <td>27.8</td>\n",
       "    </tr>\n",
       "  </tbody>\n",
       "</table>\n",
       "<p>29451 rows × 12 columns</p>\n",
       "</div>"
      ],
      "text/plain": [
       "      POSTED_BY  UNDER_CONSTRUCTION  RERA  BHK_NO. BHK_OR_RK    SQUARE_FT  \\\n",
       "0         Owner                   0     0        2       BHK  1300.236407   \n",
       "1        Dealer                   0     0        2       BHK  1275.000000   \n",
       "2         Owner                   0     0        2       BHK   933.159722   \n",
       "3         Owner                   0     1        2       BHK   929.921143   \n",
       "4        Dealer                   1     0        2       BHK   999.009247   \n",
       "...         ...                 ...   ...      ...       ...          ...   \n",
       "29446     Owner                   0     0        3       BHK  2500.000000   \n",
       "29447     Owner                   0     0        2       BHK   769.230769   \n",
       "29448    Dealer                   0     0        2       BHK  1022.641509   \n",
       "29449     Owner                   0     0        2       BHK   927.079009   \n",
       "29450    Dealer                   0     1        2       BHK   896.774194   \n",
       "\n",
       "       READY_TO_MOVE  RESALE                            ADDRESS  LONGITUDE  \\\n",
       "0                  1       1              Ksfc Layout,Bangalore  12.969910   \n",
       "1                  1       1          Vishweshwara Nagar,Mysore  12.274538   \n",
       "2                  1       1                   Jigani,Bangalore  12.778033   \n",
       "3                  1       1        Sector-1 Vaishali,Ghaziabad  28.642300   \n",
       "4                  0       1                   New Town,Kolkata  22.592200   \n",
       "...              ...     ...                                ...        ...   \n",
       "29446              1       1               Shamshabad Road,Agra  27.140626   \n",
       "29447              1       1  E3-108, Lake View Recidency,,Vapi  39.945409   \n",
       "29448              1       1                  Ajmer Road,Jaipur  26.928785   \n",
       "29449              1       1             Sholinganallur,Chennai  12.900150   \n",
       "29450              1       1                   Jagatpura,Jaipur  26.832353   \n",
       "\n",
       "        LATITUDE  TARGET(PRICE_IN_LACS)  \n",
       "0      77.597960                   55.0  \n",
       "1      76.644605                   51.0  \n",
       "2      77.632191                   43.0  \n",
       "3      77.344500                   62.5  \n",
       "4      88.484911                   60.5  \n",
       "...          ...                    ...  \n",
       "29446  78.043277                   45.0  \n",
       "29447 -86.150721                   16.0  \n",
       "29448  75.828002                   27.1  \n",
       "29449  80.227910                   67.0  \n",
       "29450  75.841749                   27.8  \n",
       "\n",
       "[29451 rows x 12 columns]"
      ]
     },
     "execution_count": 429,
     "metadata": {},
     "output_type": "execute_result"
    }
   ],
   "source": [
    "House_train_data"
   ]
  },
  {
   "cell_type": "code",
   "execution_count": 430,
   "id": "3339e870",
   "metadata": {},
   "outputs": [
    {
     "data": {
      "text/plain": [
       "(29451, 12)"
      ]
     },
     "execution_count": 430,
     "metadata": {},
     "output_type": "execute_result"
    }
   ],
   "source": [
    "#get some information about our Data-Set\n",
    "House_train_data.shape"
   ]
  },
  {
   "cell_type": "code",
   "execution_count": 431,
   "id": "b029b08c",
   "metadata": {},
   "outputs": [
    {
     "data": {
      "image/png": "[encoded data removed]",
      "text/plain": [
       "<Figure size 1440x1080 with 7 Axes>"
      ]
     },
     "metadata": {
      "needs_background": "light"
     },
     "output_type": "display_data"
    }
   ],
   "source": [
    "# Exploratory Data Analysis\n",
    "\n",
    "i = 1\n",
    "plt.figure(figsize=(20,15))\n",
    "for col in ['POSTED_BY' , 'UNDER_CONSTRUCTION' , 'RERA' , 'BHK_NO.' , 'BHK_OR_RK' ,'READY_TO_MOVE' , 'RESALE']:\n",
    "    plt.subplot(4,2,i)\n",
    "    sns.countplot(House_train_data[col])\n",
    "    i+=1"
   ]
  },
  {
   "cell_type": "code",
   "execution_count": 432,
   "id": "a003bbcc",
   "metadata": {},
   "outputs": [],
   "source": [
    "House_test_data = pd.read_csv('House Price test.csv')"
   ]
  },
  {
   "cell_type": "code",
   "execution_count": 433,
   "id": "3b2edb73",
   "metadata": {},
   "outputs": [
    {
     "data": {
      "text/html": [
       "<div>\n",
       "<style scoped>\n",
       "    .dataframe tbody tr th:only-of-type {\n",
       "        vertical-align: middle;\n",
       "    }\n",
       "\n",
       "    .dataframe tbody tr th {\n",
       "        vertical-align: top;\n",
       "    }\n",
       "\n",
       "    .dataframe thead th {\n",
       "        text-align: right;\n",
       "    }\n",
       "</style>\n",
       "<table border=\"1\" class=\"dataframe\">\n",
       "  <thead>\n",
       "    <tr style=\"text-align: right;\">\n",
       "      <th></th>\n",
       "      <th>POSTED_BY</th>\n",
       "      <th>UNDER_CONSTRUCTION</th>\n",
       "      <th>RERA</th>\n",
       "      <th>BHK_NO.</th>\n",
       "      <th>BHK_OR_RK</th>\n",
       "      <th>SQUARE_FT</th>\n",
       "      <th>READY_TO_MOVE</th>\n",
       "      <th>RESALE</th>\n",
       "      <th>ADDRESS</th>\n",
       "      <th>LONGITUDE</th>\n",
       "      <th>LATITUDE</th>\n",
       "    </tr>\n",
       "  </thead>\n",
       "  <tbody>\n",
       "    <tr>\n",
       "      <th>0</th>\n",
       "      <td>Owner</td>\n",
       "      <td>0</td>\n",
       "      <td>0</td>\n",
       "      <td>1</td>\n",
       "      <td>BHK</td>\n",
       "      <td>545.171340</td>\n",
       "      <td>1</td>\n",
       "      <td>1</td>\n",
       "      <td>Kamrej,Surat</td>\n",
       "      <td>21.262000</td>\n",
       "      <td>73.047700</td>\n",
       "    </tr>\n",
       "    <tr>\n",
       "      <th>1</th>\n",
       "      <td>Dealer</td>\n",
       "      <td>1</td>\n",
       "      <td>1</td>\n",
       "      <td>2</td>\n",
       "      <td>BHK</td>\n",
       "      <td>800.000000</td>\n",
       "      <td>0</td>\n",
       "      <td>0</td>\n",
       "      <td>Panvel,Lalitpur</td>\n",
       "      <td>18.966114</td>\n",
       "      <td>73.148278</td>\n",
       "    </tr>\n",
       "    <tr>\n",
       "      <th>2</th>\n",
       "      <td>Dealer</td>\n",
       "      <td>0</td>\n",
       "      <td>0</td>\n",
       "      <td>2</td>\n",
       "      <td>BHK</td>\n",
       "      <td>1257.096513</td>\n",
       "      <td>1</td>\n",
       "      <td>1</td>\n",
       "      <td>New Town,Kolkata</td>\n",
       "      <td>22.592200</td>\n",
       "      <td>88.484911</td>\n",
       "    </tr>\n",
       "    <tr>\n",
       "      <th>3</th>\n",
       "      <td>Dealer</td>\n",
       "      <td>0</td>\n",
       "      <td>0</td>\n",
       "      <td>3</td>\n",
       "      <td>BHK</td>\n",
       "      <td>1400.329489</td>\n",
       "      <td>1</td>\n",
       "      <td>1</td>\n",
       "      <td>Kalwar Road,Jaipur</td>\n",
       "      <td>26.988300</td>\n",
       "      <td>75.584600</td>\n",
       "    </tr>\n",
       "    <tr>\n",
       "      <th>4</th>\n",
       "      <td>Owner</td>\n",
       "      <td>0</td>\n",
       "      <td>0</td>\n",
       "      <td>1</td>\n",
       "      <td>BHK</td>\n",
       "      <td>430.477830</td>\n",
       "      <td>1</td>\n",
       "      <td>1</td>\n",
       "      <td>Mai Mandir,Nadiad</td>\n",
       "      <td>22.700000</td>\n",
       "      <td>72.870000</td>\n",
       "    </tr>\n",
       "    <tr>\n",
       "      <th>...</th>\n",
       "      <td>...</td>\n",
       "      <td>...</td>\n",
       "      <td>...</td>\n",
       "      <td>...</td>\n",
       "      <td>...</td>\n",
       "      <td>...</td>\n",
       "      <td>...</td>\n",
       "      <td>...</td>\n",
       "      <td>...</td>\n",
       "      <td>...</td>\n",
       "      <td>...</td>\n",
       "    </tr>\n",
       "    <tr>\n",
       "      <th>68715</th>\n",
       "      <td>Dealer</td>\n",
       "      <td>0</td>\n",
       "      <td>1</td>\n",
       "      <td>2</td>\n",
       "      <td>BHK</td>\n",
       "      <td>856.555505</td>\n",
       "      <td>1</td>\n",
       "      <td>1</td>\n",
       "      <td>Thane West,Maharashtra</td>\n",
       "      <td>19.180000</td>\n",
       "      <td>72.963330</td>\n",
       "    </tr>\n",
       "    <tr>\n",
       "      <th>68716</th>\n",
       "      <td>Dealer</td>\n",
       "      <td>0</td>\n",
       "      <td>1</td>\n",
       "      <td>3</td>\n",
       "      <td>BHK</td>\n",
       "      <td>2304.147465</td>\n",
       "      <td>1</td>\n",
       "      <td>1</td>\n",
       "      <td>Sector-66A Mohali,Mohali</td>\n",
       "      <td>30.661104</td>\n",
       "      <td>76.746082</td>\n",
       "    </tr>\n",
       "    <tr>\n",
       "      <th>68717</th>\n",
       "      <td>Dealer</td>\n",
       "      <td>1</td>\n",
       "      <td>1</td>\n",
       "      <td>1</td>\n",
       "      <td>BHK</td>\n",
       "      <td>33362.792750</td>\n",
       "      <td>0</td>\n",
       "      <td>0</td>\n",
       "      <td>Balkum,Maharashtra</td>\n",
       "      <td>19.222101</td>\n",
       "      <td>72.988231</td>\n",
       "    </tr>\n",
       "    <tr>\n",
       "      <th>68718</th>\n",
       "      <td>Dealer</td>\n",
       "      <td>0</td>\n",
       "      <td>0</td>\n",
       "      <td>2</td>\n",
       "      <td>BHK</td>\n",
       "      <td>1173.708920</td>\n",
       "      <td>1</td>\n",
       "      <td>1</td>\n",
       "      <td>Hadapsar,Pune</td>\n",
       "      <td>18.496670</td>\n",
       "      <td>73.941670</td>\n",
       "    </tr>\n",
       "    <tr>\n",
       "      <th>68719</th>\n",
       "      <td>Dealer</td>\n",
       "      <td>0</td>\n",
       "      <td>0</td>\n",
       "      <td>3</td>\n",
       "      <td>BHK</td>\n",
       "      <td>2439.532944</td>\n",
       "      <td>1</td>\n",
       "      <td>1</td>\n",
       "      <td>Hiranandani Gardens - Powai,Mumbai</td>\n",
       "      <td>19.124896</td>\n",
       "      <td>72.893503</td>\n",
       "    </tr>\n",
       "  </tbody>\n",
       "</table>\n",
       "<p>68720 rows × 11 columns</p>\n",
       "</div>"
      ],
      "text/plain": [
       "      POSTED_BY  UNDER_CONSTRUCTION  RERA  BHK_NO. BHK_OR_RK     SQUARE_FT  \\\n",
       "0         Owner                   0     0        1       BHK    545.171340   \n",
       "1        Dealer                   1     1        2       BHK    800.000000   \n",
       "2        Dealer                   0     0        2       BHK   1257.096513   \n",
       "3        Dealer                   0     0        3       BHK   1400.329489   \n",
       "4         Owner                   0     0        1       BHK    430.477830   \n",
       "...         ...                 ...   ...      ...       ...           ...   \n",
       "68715    Dealer                   0     1        2       BHK    856.555505   \n",
       "68716    Dealer                   0     1        3       BHK   2304.147465   \n",
       "68717    Dealer                   1     1        1       BHK  33362.792750   \n",
       "68718    Dealer                   0     0        2       BHK   1173.708920   \n",
       "68719    Dealer                   0     0        3       BHK   2439.532944   \n",
       "\n",
       "       READY_TO_MOVE  RESALE                             ADDRESS  LONGITUDE  \\\n",
       "0                  1       1                        Kamrej,Surat  21.262000   \n",
       "1                  0       0                     Panvel,Lalitpur  18.966114   \n",
       "2                  1       1                    New Town,Kolkata  22.592200   \n",
       "3                  1       1                  Kalwar Road,Jaipur  26.988300   \n",
       "4                  1       1                   Mai Mandir,Nadiad  22.700000   \n",
       "...              ...     ...                                 ...        ...   \n",
       "68715              1       1              Thane West,Maharashtra  19.180000   \n",
       "68716              1       1            Sector-66A Mohali,Mohali  30.661104   \n",
       "68717              0       0                  Balkum,Maharashtra  19.222101   \n",
       "68718              1       1                       Hadapsar,Pune  18.496670   \n",
       "68719              1       1  Hiranandani Gardens - Powai,Mumbai  19.124896   \n",
       "\n",
       "        LATITUDE  \n",
       "0      73.047700  \n",
       "1      73.148278  \n",
       "2      88.484911  \n",
       "3      75.584600  \n",
       "4      72.870000  \n",
       "...          ...  \n",
       "68715  72.963330  \n",
       "68716  76.746082  \n",
       "68717  72.988231  \n",
       "68718  73.941670  \n",
       "68719  72.893503  \n",
       "\n",
       "[68720 rows x 11 columns]"
      ]
     },
     "execution_count": 433,
     "metadata": {},
     "output_type": "execute_result"
    }
   ],
   "source": [
    "House_test_data"
   ]
  },
  {
   "cell_type": "code",
   "execution_count": 434,
   "id": "8ffcf329",
   "metadata": {},
   "outputs": [
    {
     "data": {
      "text/plain": [
       "(68720, 11)"
      ]
     },
     "execution_count": 434,
     "metadata": {},
     "output_type": "execute_result"
    }
   ],
   "source": [
    "House_test_data.shape"
   ]
  },
  {
   "cell_type": "code",
   "execution_count": 435,
   "id": "2c3397ac",
   "metadata": {},
   "outputs": [
    {
     "name": "stdout",
     "output_type": "stream",
     "text": [
      "<class 'pandas.core.frame.DataFrame'>\n",
      "RangeIndex: 29451 entries, 0 to 29450\n",
      "Data columns (total 12 columns):\n",
      " #   Column                 Non-Null Count  Dtype  \n",
      "---  ------                 --------------  -----  \n",
      " 0   POSTED_BY              29451 non-null  object \n",
      " 1   UNDER_CONSTRUCTION     29451 non-null  int64  \n",
      " 2   RERA                   29451 non-null  int64  \n",
      " 3   BHK_NO.                29451 non-null  int64  \n",
      " 4   BHK_OR_RK              29451 non-null  object \n",
      " 5   SQUARE_FT              29451 non-null  float64\n",
      " 6   READY_TO_MOVE          29451 non-null  int64  \n",
      " 7   RESALE                 29451 non-null  int64  \n",
      " 8   ADDRESS                29451 non-null  object \n",
      " 9   LONGITUDE              29451 non-null  float64\n",
      " 10  LATITUDE               29451 non-null  float64\n",
      " 11  TARGET(PRICE_IN_LACS)  29451 non-null  float64\n",
      "dtypes: float64(4), int64(5), object(3)\n",
      "memory usage: 2.7+ MB\n"
     ]
    }
   ],
   "source": [
    "House_train_data.info()"
   ]
  },
  {
   "cell_type": "code",
   "execution_count": 436,
   "id": "4918b65c",
   "metadata": {},
   "outputs": [
    {
     "name": "stdout",
     "output_type": "stream",
     "text": [
      "<class 'pandas.core.frame.DataFrame'>\n",
      "RangeIndex: 68720 entries, 0 to 68719\n",
      "Data columns (total 11 columns):\n",
      " #   Column              Non-Null Count  Dtype  \n",
      "---  ------              --------------  -----  \n",
      " 0   POSTED_BY           68720 non-null  object \n",
      " 1   UNDER_CONSTRUCTION  68720 non-null  int64  \n",
      " 2   RERA                68720 non-null  int64  \n",
      " 3   BHK_NO.             68720 non-null  int64  \n",
      " 4   BHK_OR_RK           68720 non-null  object \n",
      " 5   SQUARE_FT           68720 non-null  float64\n",
      " 6   READY_TO_MOVE       68720 non-null  int64  \n",
      " 7   RESALE              68720 non-null  int64  \n",
      " 8   ADDRESS             68720 non-null  object \n",
      " 9   LONGITUDE           68720 non-null  float64\n",
      " 10  LATITUDE            68720 non-null  float64\n",
      "dtypes: float64(3), int64(5), object(3)\n",
      "memory usage: 5.8+ MB\n"
     ]
    }
   ],
   "source": [
    "House_test_data.info()"
   ]
  },
  {
   "cell_type": "code",
   "execution_count": 437,
   "id": "ee21b9f1",
   "metadata": {},
   "outputs": [
    {
     "data": {
      "text/html": [
       "<div>\n",
       "<style scoped>\n",
       "    .dataframe tbody tr th:only-of-type {\n",
       "        vertical-align: middle;\n",
       "    }\n",
       "\n",
       "    .dataframe tbody tr th {\n",
       "        vertical-align: top;\n",
       "    }\n",
       "\n",
       "    .dataframe thead th {\n",
       "        text-align: right;\n",
       "    }\n",
       "</style>\n",
       "<table border=\"1\" class=\"dataframe\">\n",
       "  <thead>\n",
       "    <tr style=\"text-align: right;\">\n",
       "      <th></th>\n",
       "      <th>UNDER_CONSTRUCTION</th>\n",
       "      <th>RERA</th>\n",
       "      <th>BHK_NO.</th>\n",
       "      <th>SQUARE_FT</th>\n",
       "      <th>READY_TO_MOVE</th>\n",
       "      <th>RESALE</th>\n",
       "      <th>LONGITUDE</th>\n",
       "      <th>LATITUDE</th>\n",
       "      <th>TARGET(PRICE_IN_LACS)</th>\n",
       "    </tr>\n",
       "  </thead>\n",
       "  <tbody>\n",
       "    <tr>\n",
       "      <th>count</th>\n",
       "      <td>29451.000000</td>\n",
       "      <td>29451.000000</td>\n",
       "      <td>29451.000000</td>\n",
       "      <td>2.945100e+04</td>\n",
       "      <td>29451.000000</td>\n",
       "      <td>29451.000000</td>\n",
       "      <td>29451.000000</td>\n",
       "      <td>29451.000000</td>\n",
       "      <td>29451.000000</td>\n",
       "    </tr>\n",
       "    <tr>\n",
       "      <th>mean</th>\n",
       "      <td>0.179756</td>\n",
       "      <td>0.317918</td>\n",
       "      <td>2.392279</td>\n",
       "      <td>1.980217e+04</td>\n",
       "      <td>0.820244</td>\n",
       "      <td>0.929578</td>\n",
       "      <td>21.300255</td>\n",
       "      <td>76.837695</td>\n",
       "      <td>142.898746</td>\n",
       "    </tr>\n",
       "    <tr>\n",
       "      <th>std</th>\n",
       "      <td>0.383991</td>\n",
       "      <td>0.465675</td>\n",
       "      <td>0.879091</td>\n",
       "      <td>1.901335e+06</td>\n",
       "      <td>0.383991</td>\n",
       "      <td>0.255861</td>\n",
       "      <td>6.205306</td>\n",
       "      <td>10.557747</td>\n",
       "      <td>656.880713</td>\n",
       "    </tr>\n",
       "    <tr>\n",
       "      <th>min</th>\n",
       "      <td>0.000000</td>\n",
       "      <td>0.000000</td>\n",
       "      <td>1.000000</td>\n",
       "      <td>3.000000e+00</td>\n",
       "      <td>0.000000</td>\n",
       "      <td>0.000000</td>\n",
       "      <td>-37.713008</td>\n",
       "      <td>-121.761248</td>\n",
       "      <td>0.250000</td>\n",
       "    </tr>\n",
       "    <tr>\n",
       "      <th>25%</th>\n",
       "      <td>0.000000</td>\n",
       "      <td>0.000000</td>\n",
       "      <td>2.000000</td>\n",
       "      <td>9.000211e+02</td>\n",
       "      <td>1.000000</td>\n",
       "      <td>1.000000</td>\n",
       "      <td>18.452663</td>\n",
       "      <td>73.798100</td>\n",
       "      <td>38.000000</td>\n",
       "    </tr>\n",
       "    <tr>\n",
       "      <th>50%</th>\n",
       "      <td>0.000000</td>\n",
       "      <td>0.000000</td>\n",
       "      <td>2.000000</td>\n",
       "      <td>1.175057e+03</td>\n",
       "      <td>1.000000</td>\n",
       "      <td>1.000000</td>\n",
       "      <td>20.750000</td>\n",
       "      <td>77.324137</td>\n",
       "      <td>62.000000</td>\n",
       "    </tr>\n",
       "    <tr>\n",
       "      <th>75%</th>\n",
       "      <td>0.000000</td>\n",
       "      <td>1.000000</td>\n",
       "      <td>3.000000</td>\n",
       "      <td>1.550688e+03</td>\n",
       "      <td>1.000000</td>\n",
       "      <td>1.000000</td>\n",
       "      <td>26.900926</td>\n",
       "      <td>77.828740</td>\n",
       "      <td>100.000000</td>\n",
       "    </tr>\n",
       "    <tr>\n",
       "      <th>max</th>\n",
       "      <td>1.000000</td>\n",
       "      <td>1.000000</td>\n",
       "      <td>20.000000</td>\n",
       "      <td>2.545455e+08</td>\n",
       "      <td>1.000000</td>\n",
       "      <td>1.000000</td>\n",
       "      <td>59.912884</td>\n",
       "      <td>152.962676</td>\n",
       "      <td>30000.000000</td>\n",
       "    </tr>\n",
       "  </tbody>\n",
       "</table>\n",
       "</div>"
      ],
      "text/plain": [
       "       UNDER_CONSTRUCTION          RERA       BHK_NO.     SQUARE_FT  \\\n",
       "count        29451.000000  29451.000000  29451.000000  2.945100e+04   \n",
       "mean             0.179756      0.317918      2.392279  1.980217e+04   \n",
       "std              0.383991      0.465675      0.879091  1.901335e+06   \n",
       "min              0.000000      0.000000      1.000000  3.000000e+00   \n",
       "25%              0.000000      0.000000      2.000000  9.000211e+02   \n",
       "50%              0.000000      0.000000      2.000000  1.175057e+03   \n",
       "75%              0.000000      1.000000      3.000000  1.550688e+03   \n",
       "max              1.000000      1.000000     20.000000  2.545455e+08   \n",
       "\n",
       "       READY_TO_MOVE        RESALE     LONGITUDE      LATITUDE  \\\n",
       "count   29451.000000  29451.000000  29451.000000  29451.000000   \n",
       "mean        0.820244      0.929578     21.300255     76.837695   \n",
       "std         0.383991      0.255861      6.205306     10.557747   \n",
       "min         0.000000      0.000000    -37.713008   -121.761248   \n",
       "25%         1.000000      1.000000     18.452663     73.798100   \n",
       "50%         1.000000      1.000000     20.750000     77.324137   \n",
       "75%         1.000000      1.000000     26.900926     77.828740   \n",
       "max         1.000000      1.000000     59.912884    152.962676   \n",
       "\n",
       "       TARGET(PRICE_IN_LACS)  \n",
       "count           29451.000000  \n",
       "mean              142.898746  \n",
       "std               656.880713  \n",
       "min                 0.250000  \n",
       "25%                38.000000  \n",
       "50%                62.000000  \n",
       "75%               100.000000  \n",
       "max             30000.000000  "
      ]
     },
     "execution_count": 437,
     "metadata": {},
     "output_type": "execute_result"
    }
   ],
   "source": [
    "House_train_data.describe()"
   ]
  },
  {
   "cell_type": "code",
   "execution_count": 438,
   "id": "a7b8ba19",
   "metadata": {},
   "outputs": [
    {
     "data": {
      "text/html": [
       "<div>\n",
       "<style scoped>\n",
       "    .dataframe tbody tr th:only-of-type {\n",
       "        vertical-align: middle;\n",
       "    }\n",
       "\n",
       "    .dataframe tbody tr th {\n",
       "        vertical-align: top;\n",
       "    }\n",
       "\n",
       "    .dataframe thead th {\n",
       "        text-align: right;\n",
       "    }\n",
       "</style>\n",
       "<table border=\"1\" class=\"dataframe\">\n",
       "  <thead>\n",
       "    <tr style=\"text-align: right;\">\n",
       "      <th></th>\n",
       "      <th>POSTED_BY</th>\n",
       "      <th>BHK_OR_RK</th>\n",
       "      <th>ADDRESS</th>\n",
       "    </tr>\n",
       "  </thead>\n",
       "  <tbody>\n",
       "    <tr>\n",
       "      <th>count</th>\n",
       "      <td>29451</td>\n",
       "      <td>29451</td>\n",
       "      <td>29451</td>\n",
       "    </tr>\n",
       "    <tr>\n",
       "      <th>unique</th>\n",
       "      <td>3</td>\n",
       "      <td>2</td>\n",
       "      <td>6899</td>\n",
       "    </tr>\n",
       "    <tr>\n",
       "      <th>top</th>\n",
       "      <td>Dealer</td>\n",
       "      <td>BHK</td>\n",
       "      <td>Zirakpur,Chandigarh</td>\n",
       "    </tr>\n",
       "    <tr>\n",
       "      <th>freq</th>\n",
       "      <td>18291</td>\n",
       "      <td>29427</td>\n",
       "      <td>509</td>\n",
       "    </tr>\n",
       "  </tbody>\n",
       "</table>\n",
       "</div>"
      ],
      "text/plain": [
       "       POSTED_BY BHK_OR_RK              ADDRESS\n",
       "count      29451     29451                29451\n",
       "unique         3         2                 6899\n",
       "top       Dealer       BHK  Zirakpur,Chandigarh\n",
       "freq       18291     29427                  509"
      ]
     },
     "execution_count": 438,
     "metadata": {},
     "output_type": "execute_result"
    }
   ],
   "source": [
    "House_train_data.describe(include = \"object\")"
   ]
  },
  {
   "cell_type": "markdown",
   "id": "904297c4",
   "metadata": {},
   "source": [
    "### Determining the number of entries"
   ]
  },
  {
   "cell_type": "code",
   "execution_count": 439,
   "id": "e31d81de",
   "metadata": {},
   "outputs": [
    {
     "name": "stdout",
     "output_type": "stream",
     "text": [
      "Total no of unique values available in POSTED_BY = 3\n",
      "Uniques Data  that are available in 1st feature are =  ['Owner' 'Dealer' 'Builder']\n",
      "Number of entries of Unique value available in POSTED_BY = Dealer     18291\n",
      "Owner      10538\n",
      "Builder      622\n",
      "Name: POSTED_BY, dtype: int64\n"
     ]
    },
    {
     "data": {
      "text/plain": [
       "pandas.core.series.Series"
      ]
     },
     "execution_count": 439,
     "metadata": {},
     "output_type": "execute_result"
    }
   ],
   "source": [
    "print(\"Total no of unique values available in POSTED_BY =\" ,House_train_data[\"POSTED_BY\"].nunique())\n",
    "print(\"Uniques Data  that are available in 1st feature are = \",House_train_data[\"POSTED_BY\"].unique())\n",
    "print(\"Number of entries of Unique value available in POSTED_BY =\" ,House_train_data[\"POSTED_BY\"].value_counts())\n",
    "type(House_train_data[\"POSTED_BY\"])"
   ]
  },
  {
   "cell_type": "code",
   "execution_count": 440,
   "id": "5afe9470",
   "metadata": {},
   "outputs": [],
   "source": [
    "House_train_data[\"POSTED_BY\"] = House_train_data[\"POSTED_BY\"].replace(to_replace=['Owner', 'Dealer','Builder'], value=[0,1,2])\n",
    "House_test_data[\"POSTED_BY\"]  = House_test_data[\"POSTED_BY\"].replace(to_replace=['Owner', 'Dealer','Builder'], value=[0,1,2])"
   ]
  },
  {
   "cell_type": "code",
   "execution_count": 441,
   "id": "a2360e82",
   "metadata": {},
   "outputs": [
    {
     "name": "stdout",
     "output_type": "stream",
     "text": [
      "Total no of unique value available in UNDER_CONSTRUCTION = 2\n",
      "Uniques Data that are available in UNDER_CONSTRUCTION are =  [0 1]\n",
      "Number of entries of Unique value available in UNDER_CONSTRUCTION = 0    24157\n",
      "1     5294\n",
      "Name: UNDER_CONSTRUCTION, dtype: int64\n"
     ]
    },
    {
     "data": {
      "text/plain": [
       "pandas.core.series.Series"
      ]
     },
     "execution_count": 441,
     "metadata": {},
     "output_type": "execute_result"
    }
   ],
   "source": [
    "print(\"Total no of unique value available in UNDER_CONSTRUCTION =\" ,House_train_data[\"UNDER_CONSTRUCTION\"].nunique())\n",
    "print(\"Uniques Data that are available in UNDER_CONSTRUCTION are = \",House_train_data[\"UNDER_CONSTRUCTION\"].unique())\n",
    "print(\"Number of entries of Unique value available in UNDER_CONSTRUCTION =\" ,House_train_data[\"UNDER_CONSTRUCTION\"].value_counts())\n",
    "type(House_train_data[\"UNDER_CONSTRUCTION\"])"
   ]
  },
  {
   "cell_type": "code",
   "execution_count": 442,
   "id": "a133ca4a",
   "metadata": {},
   "outputs": [
    {
     "name": "stdout",
     "output_type": "stream",
     "text": [
      "Total no of unique value available in RERA = 2\n",
      "Uniques Data that are available in RERA are =  [0 1]\n",
      "Number of entries of Unique value available in RERA = 0    20088\n",
      "1     9363\n",
      "Name: RERA, dtype: int64\n"
     ]
    },
    {
     "data": {
      "text/plain": [
       "pandas.core.series.Series"
      ]
     },
     "execution_count": 442,
     "metadata": {},
     "output_type": "execute_result"
    }
   ],
   "source": [
    "print(\"Total no of unique value available in RERA =\" ,House_train_data[\"RERA\"].nunique())\n",
    "print(\"Uniques Data that are available in RERA are = \",House_train_data[\"RERA\"].unique())\n",
    "print(\"Number of entries of Unique value available in RERA =\" ,House_train_data[\"RERA\"].value_counts())\n",
    "type(House_train_data[\"RERA\"])"
   ]
  },
  {
   "cell_type": "code",
   "execution_count": 443,
   "id": "e2e38525",
   "metadata": {},
   "outputs": [
    {
     "name": "stdout",
     "output_type": "stream",
     "text": [
      "Total no of unique value available in BHK_NO.  = 16\n",
      "Uniques Data that are available in BHK_NO. are =  [ 2  3  1  4  5  6 12  8 20 10  7  9 13 17 15 11]\n",
      "Number of entries of Unique value available in BHK_NO. = 2     13324\n",
      "3     10546\n",
      "1      3574\n",
      "4      1723\n",
      "5       190\n",
      "6        52\n",
      "7        11\n",
      "8        10\n",
      "20        4\n",
      "10        4\n",
      "15        4\n",
      "9         3\n",
      "12        3\n",
      "17        1\n",
      "11        1\n",
      "13        1\n",
      "Name: BHK_NO., dtype: int64\n"
     ]
    },
    {
     "data": {
      "text/plain": [
       "pandas.core.series.Series"
      ]
     },
     "execution_count": 443,
     "metadata": {},
     "output_type": "execute_result"
    }
   ],
   "source": [
    "print(\"Total no of unique value available in BHK_NO.  =\" ,House_train_data[\"BHK_NO.\"].nunique())\n",
    "print(\"Uniques Data that are available in BHK_NO. are = \",House_train_data[\"BHK_NO.\"].unique())\n",
    "print(\"Number of entries of Unique value available in BHK_NO. =\" ,House_train_data[\"BHK_NO.\"].value_counts())\n",
    "type(House_train_data[\"BHK_NO.\"])"
   ]
  },
  {
   "cell_type": "code",
   "execution_count": 444,
   "id": "5ee10248",
   "metadata": {},
   "outputs": [
    {
     "name": "stdout",
     "output_type": "stream",
     "text": [
      "Total no of unique value available in BHK_OR_RK  = 2\n",
      "Uniques Data that are available in BHK_OR_RK are =  ['BHK' 'RK']\n",
      "Number of entries of Unique value available in BHK_OR_RK = BHK    29427\n",
      "RK        24\n",
      "Name: BHK_OR_RK, dtype: int64\n"
     ]
    },
    {
     "data": {
      "text/plain": [
       "pandas.core.series.Series"
      ]
     },
     "execution_count": 444,
     "metadata": {},
     "output_type": "execute_result"
    }
   ],
   "source": [
    "print(\"Total no of unique value available in BHK_OR_RK  =\" ,House_train_data[\"BHK_OR_RK\"].nunique())\n",
    "print(\"Uniques Data that are available in BHK_OR_RK are = \",House_train_data[\"BHK_OR_RK\"].unique())\n",
    "print(\"Number of entries of Unique value available in BHK_OR_RK =\" ,House_train_data[\"BHK_OR_RK\"].value_counts())\n",
    "type(House_train_data[\"BHK_OR_RK\"])"
   ]
  },
  {
   "cell_type": "markdown",
   "id": "d485fafb",
   "metadata": {},
   "source": [
    "## Conversion of the Unique data into binary type for the required calculations"
   ]
  },
  {
   "cell_type": "code",
   "execution_count": 445,
   "id": "7c536e17",
   "metadata": {},
   "outputs": [],
   "source": [
    "House_train_data[\"BHK_OR_RK\"] = House_train_data[\"BHK_OR_RK\"].replace(to_replace=('BHK', 'RK'),value=[1,0])"
   ]
  },
  {
   "cell_type": "code",
   "execution_count": 446,
   "id": "12485883",
   "metadata": {},
   "outputs": [
    {
     "name": "stdout",
     "output_type": "stream",
     "text": [
      "Total no of unique value available in BHK_OR_RK  = 2\n",
      "Uniques Data are that available in BHK_OR_RK are =  [1 0]\n",
      "Number of entries of Unique value available in BHK_OR_RK = 1    29427\n",
      "0       24\n",
      "Name: BHK_OR_RK, dtype: int64\n"
     ]
    },
    {
     "data": {
      "text/plain": [
       "pandas.core.series.Series"
      ]
     },
     "execution_count": 446,
     "metadata": {},
     "output_type": "execute_result"
    }
   ],
   "source": [
    "print(\"Total no of unique value available in BHK_OR_RK  =\" ,House_train_data[\"BHK_OR_RK\"].nunique())\n",
    "print(\"Uniques Data are that available in BHK_OR_RK are = \",House_train_data[\"BHK_OR_RK\"].unique())\n",
    "print(\"Number of entries of Unique value available in BHK_OR_RK =\" ,House_train_data[\"BHK_OR_RK\"].value_counts())\n",
    "type(House_train_data[\"BHK_OR_RK\"])"
   ]
  },
  {
   "cell_type": "code",
   "execution_count": 447,
   "id": "a91e173b",
   "metadata": {},
   "outputs": [
    {
     "name": "stdout",
     "output_type": "stream",
     "text": [
      "Total no of unique value available in SQUARE_FT  = 19561\n",
      "Uniques Data that are available in SQUARE_FT are =  [1300.236407  1275.         933.1597222 ... 1022.641509   927.0790093\n",
      "  896.7741935]\n",
      "Number of entries of Unique value available in SQUARE_FT = 1000.000000    479\n",
      "1250.000000    294\n",
      "800.000000     202\n",
      "1200.000000    179\n",
      "1600.000000    125\n",
      "              ... \n",
      "2200.303490      1\n",
      "1170.311056      1\n",
      "1360.092884      1\n",
      "1532.097441      1\n",
      "2090.492554      1\n",
      "Name: SQUARE_FT, Length: 19561, dtype: int64\n"
     ]
    },
    {
     "data": {
      "text/plain": [
       "pandas.core.series.Series"
      ]
     },
     "execution_count": 447,
     "metadata": {},
     "output_type": "execute_result"
    }
   ],
   "source": [
    "print(\"Total no of unique value available in SQUARE_FT  =\" ,House_train_data[\"SQUARE_FT\"].nunique())\n",
    "print(\"Uniques Data that are available in SQUARE_FT are = \",House_train_data[\"SQUARE_FT\"].unique())\n",
    "print(\"Number of entries of Unique value available in SQUARE_FT =\" ,House_train_data[\"SQUARE_FT\"].value_counts())\n",
    "type(House_train_data[\"SQUARE_FT\"])"
   ]
  },
  {
   "cell_type": "code",
   "execution_count": 448,
   "id": "6701233c",
   "metadata": {},
   "outputs": [
    {
     "name": "stdout",
     "output_type": "stream",
     "text": [
      "Total no of unique value available in READY_TO_MOVE  = 2\n",
      "Uniques Data that are available in READY_TO_MOVE are =  [1 0]\n",
      "Number of entries of Unique value available in READY_TO_MOVE = 1    24157\n",
      "0     5294\n",
      "Name: READY_TO_MOVE, dtype: int64\n"
     ]
    },
    {
     "data": {
      "text/plain": [
       "pandas.core.series.Series"
      ]
     },
     "execution_count": 448,
     "metadata": {},
     "output_type": "execute_result"
    }
   ],
   "source": [
    "print(\"Total no of unique value available in READY_TO_MOVE  =\" ,House_train_data[\"READY_TO_MOVE\"].nunique())\n",
    "print(\"Uniques Data that are available in READY_TO_MOVE are = \",House_train_data[\"READY_TO_MOVE\"].unique())\n",
    "print(\"Number of entries of Unique value available in READY_TO_MOVE =\" ,House_train_data[\"READY_TO_MOVE\"].value_counts())\n",
    "type(House_train_data[\"READY_TO_MOVE\"])"
   ]
  },
  {
   "cell_type": "code",
   "execution_count": 449,
   "id": "497d2476",
   "metadata": {},
   "outputs": [
    {
     "name": "stdout",
     "output_type": "stream",
     "text": [
      "Total no of unique value available in RESALE  = 2\n",
      "Uniques Data that are available in RESALE are =  [1 0]\n",
      "Number of entries of Unique value available in RESALE = 1    27377\n",
      "0     2074\n",
      "Name: RESALE, dtype: int64\n"
     ]
    }
   ],
   "source": [
    "print(\"Total no of unique value available in RESALE  =\" ,House_train_data[\"RESALE\"].nunique())\n",
    "print(\"Uniques Data that are available in RESALE are = \",House_train_data[\"RESALE\"].unique())\n",
    "print(\"Number of entries of Unique value available in RESALE =\" ,House_train_data[\"RESALE\"].value_counts())\n"
   ]
  },
  {
   "cell_type": "code",
   "execution_count": 450,
   "id": "7f070a14",
   "metadata": {},
   "outputs": [
    {
     "name": "stdout",
     "output_type": "stream",
     "text": [
      "Total no of unique value available in ADDRESS  = 6899\n",
      "Uniques Data that are available in ADDRESS are =  ['Ksfc Layout,Bangalore' 'Vishweshwara Nagar,Mysore' 'Jigani,Bangalore'\n",
      " ... 'west mambalam,Chennai' 'Gandhi Nagar,Gulbarga'\n",
      " 'E3-108, Lake View Recidency,,Vapi']\n",
      "Number of entries of Unique value available in ADDRESS = Zirakpur,Chandigarh              509\n",
      "Whitefield,Bangalore             230\n",
      "Raj Nagar Extension,Ghaziabad    215\n",
      "Sector-137 Noida,Noida           139\n",
      "New Town,Kolkata                 131\n",
      "                                ... \n",
      "Shree Nagar,Belgaum                1\n",
      "Vanzari Garbi Chowk,Junagadh       1\n",
      "Bodhan,Nizamabad                   1\n",
      "Khopoli,Raigarh                    1\n",
      "Devi Nagar,Bangalore               1\n",
      "Name: ADDRESS, Length: 6899, dtype: int64\n"
     ]
    },
    {
     "data": {
      "text/plain": [
       "pandas.core.series.Series"
      ]
     },
     "execution_count": 450,
     "metadata": {},
     "output_type": "execute_result"
    }
   ],
   "source": [
    "print(\"Total no of unique value available in ADDRESS  =\" ,House_train_data[\"ADDRESS\"].nunique())\n",
    "print(\"Uniques Data that are available in ADDRESS are = \",House_train_data[\"ADDRESS\"].unique())\n",
    "print(\"Number of entries of Unique value available in ADDRESS =\" ,House_train_data[\"ADDRESS\"].value_counts())\n",
    "type(House_train_data[\"ADDRESS\"])"
   ]
  },
  {
   "cell_type": "code",
   "execution_count": 451,
   "id": "2db2a695",
   "metadata": {},
   "outputs": [
    {
     "name": "stdout",
     "output_type": "stream",
     "text": [
      "Total no of Unique value available in LONGITUDE  = 4087\n",
      "Uniques Data that are available in LONGITUDE are =  [12.96991  12.274538 12.778033 ... 18.9737   17.357159 39.945409]\n",
      "Number of entries of Unique value available in LONGITUDE = 24.690280    1009\n",
      "12.969910     671\n",
      "30.662283     509\n",
      "22.541110     479\n",
      "19.058710     242\n",
      "             ... \n",
      "25.606371       1\n",
      "20.802556       1\n",
      "21.132949       1\n",
      "21.183330       1\n",
      "27.846364       1\n",
      "Name: LONGITUDE, Length: 4087, dtype: int64\n"
     ]
    },
    {
     "data": {
      "text/plain": [
       "pandas.core.series.Series"
      ]
     },
     "execution_count": 451,
     "metadata": {},
     "output_type": "execute_result"
    }
   ],
   "source": [
    "print(\"Total no of Unique value available in LONGITUDE  =\" ,House_train_data[\"LONGITUDE\"].nunique())\n",
    "print(\"Uniques Data that are available in LONGITUDE are = \",House_train_data[\"LONGITUDE\"].unique())\n",
    "print(\"Number of entries of Unique value available in LONGITUDE =\" ,House_train_data[\"LONGITUDE\"].value_counts())\n",
    "type(House_train_data[\"LONGITUDE\"])"
   ]
  },
  {
   "cell_type": "code",
   "execution_count": 452,
   "id": "ae8f2d34",
   "metadata": {},
   "outputs": [
    {
     "name": "stdout",
     "output_type": "stream",
     "text": [
      "Total no of Unique value available in LATITUDE  = 4078\n",
      "Uniques Data that are available in LATITUDE are =  [ 77.59796   76.644605  77.632191 ...  73.3321    76.841908 -86.150721]\n",
      "Number of entries of Unique value available in LATITUDE = 78.418890    1009\n",
      "77.597960     671\n",
      "76.822397     509\n",
      "88.337780     479\n",
      "72.899690     242\n",
      "             ... \n",
      "77.008060       1\n",
      "77.501208       1\n",
      "83.020674       1\n",
      "80.189850       1\n",
      "69.658066       1\n",
      "Name: LATITUDE, Length: 4078, dtype: int64\n"
     ]
    },
    {
     "data": {
      "text/plain": [
       "pandas.core.series.Series"
      ]
     },
     "execution_count": 452,
     "metadata": {},
     "output_type": "execute_result"
    }
   ],
   "source": [
    "print(\"Total no of Unique value available in LATITUDE  =\" ,House_train_data[\"LATITUDE\"].nunique())\n",
    "print(\"Uniques Data that are available in LATITUDE are = \",House_train_data[\"LATITUDE\"].unique())\n",
    "print(\"Number of entries of Unique value available in LATITUDE =\" ,House_train_data[\"LATITUDE\"].value_counts())\n",
    "type(House_train_data[\"LATITUDE\"])"
   ]
  },
  {
   "cell_type": "code",
   "execution_count": 453,
   "id": "759598da",
   "metadata": {},
   "outputs": [
    {
     "name": "stdout",
     "output_type": "stream",
     "text": [
      "Total no of Unique value available in TARGET(PRICE_IN_LACS)  = 1172\n",
      "Uniques Data that are available in TARGET(PRICE_IN_LACS) are =  [  55.    51.    43.  ... 1170.  8660.    18.3]\n",
      "Number of entries of Unique value available in TARGET(PRICE_IN_LACS) = 110.0     795\n",
      "100.0     770\n",
      "120.0     652\n",
      "130.0     598\n",
      "45.0      583\n",
      "         ... \n",
      "1890.0      1\n",
      "248.0       1\n",
      "1.5         1\n",
      "7390.0      1\n",
      "810.0       1\n",
      "Name: TARGET(PRICE_IN_LACS), Length: 1172, dtype: int64\n"
     ]
    },
    {
     "data": {
      "text/plain": [
       "pandas.core.series.Series"
      ]
     },
     "execution_count": 453,
     "metadata": {},
     "output_type": "execute_result"
    }
   ],
   "source": [
    "print(\"Total no of Unique value available in TARGET(PRICE_IN_LACS)  =\" ,House_train_data[\"TARGET(PRICE_IN_LACS)\"].nunique())\n",
    "print(\"Uniques Data that are available in TARGET(PRICE_IN_LACS) are = \",House_train_data[\"TARGET(PRICE_IN_LACS)\"].unique())\n",
    "print(\"Number of entries of Unique value available in TARGET(PRICE_IN_LACS) =\" ,House_train_data[\"TARGET(PRICE_IN_LACS)\"].value_counts())\n",
    "type(House_train_data[\"TARGET(PRICE_IN_LACS)\"])"
   ]
  },
  {
   "cell_type": "markdown",
   "id": "465a5460",
   "metadata": {},
   "source": [
    "# STEP 3 : DATA VISUALISATION"
   ]
  },
  {
   "cell_type": "code",
   "execution_count": 454,
   "id": "d95170fc",
   "metadata": {},
   "outputs": [
    {
     "data": {
      "text/plain": [
       "<seaborn.axisgrid.FacetGrid at 0x223d11e7940>"
      ]
     },
     "execution_count": 454,
     "metadata": {},
     "output_type": "execute_result"
    },
    {
     "data": {
      "image/png": "[encoded data removed]",
      "text/plain": [
       "<Figure size 360x360 with 1 Axes>"
      ]
     },
     "metadata": {
      "needs_background": "light"
     },
     "output_type": "display_data"
    }
   ],
   "source": [
    "# Checking of outliers in TARGET(PRICE_in_lACS) of Train Data Set Column\n",
    "plt.rcParams['axes.facecolor'] = \"yellow\"\n",
    "sns.displot(House_train_data[\"TARGET(PRICE_IN_LACS)\"])"
   ]
  },
  {
   "cell_type": "code",
   "execution_count": 455,
   "id": "4df86e2c",
   "metadata": {},
   "outputs": [
    {
     "data": {
      "text/plain": [
       "<AxesSubplot:xlabel='LONGITUDE', ylabel='LATITUDE'>"
      ]
     },
     "execution_count": 455,
     "metadata": {},
     "output_type": "execute_result"
    },
    {
     "data": {
      "image/png": "[encoded data removed]",
      "text/plain": [
       "<Figure size 864x576 with 1 Axes>"
      ]
     },
     "metadata": {
      "needs_background": "light"
     },
     "output_type": "display_data"
    }
   ],
   "source": [
    "# Scatter Plot between Location (Latitude,Longitude) and Prices of the property to check the outliers\n",
    "plt.figure(figsize=(12,8))\n",
    "plt.rcParams['axes.facecolor'] = \"gray\"\n",
    "sns.scatterplot(x=\"LONGITUDE\", y=\"LATITUDE\", data=House_train_data, hue=\"TARGET(PRICE_IN_LACS)\",palette = 'rainbow')"
   ]
  },
  {
   "cell_type": "code",
   "execution_count": 456,
   "id": "ec4e6cbe",
   "metadata": {},
   "outputs": [
    {
     "data": {
      "text/plain": [
       "<AxesSubplot:xlabel='SQUARE_FT', ylabel='Density'>"
      ]
     },
     "execution_count": 456,
     "metadata": {},
     "output_type": "execute_result"
    },
    {
     "data": {
      "image/png": "[encoded data removed]",
      "text/plain": [
       "<Figure size 432x288 with 1 Axes>"
      ]
     },
     "metadata": {
      "needs_background": "light"
     },
     "output_type": "display_data"
    }
   ],
   "source": [
    "#Checking the outliers in square foot column\n",
    "sns.distplot(House_train_data['SQUARE_FT'])"
   ]
  },
  {
   "cell_type": "markdown",
   "id": "cfd5afef",
   "metadata": {},
   "source": [
    "### Renaming the last column for our assistance"
   ]
  },
  {
   "cell_type": "code",
   "execution_count": 357,
   "id": "32a71869",
   "metadata": {},
   "outputs": [],
   "source": [
    "House_train_data = House_train_data.rename(columns = {'TARGET(PRICE_IN_LACS)' : 'TARGET'})"
   ]
  },
  {
   "cell_type": "markdown",
   "id": "b09fd61a",
   "metadata": {},
   "source": [
    "#    Removing the Outliers from Train Data\n",
    "\n",
    "## Detecting outliers using quantile ranges\n",
    "\n",
    "## What Are Quantiles?\n",
    "### Quantiles are very easy to understand. Let’s say we have a series of 20 numbers. We can sort the numbers from lowest to highest. We can then group these points into quantiles, which are identified by cut points in the sorted data that describe the point below which X% of data falls.\n",
    " ### Note that quantiles are generally expressed as a fraction (from 0 to 1). They correspond exactly to percentiles, which range from 0 to 100."
   ]
  },
  {
   "cell_type": "code",
   "execution_count": 358,
   "id": "36ea7e68",
   "metadata": {},
   "outputs": [],
   "source": [
    "Quant1= House_train_data.quantile(.25)\n",
    "Quant2= House_train_data.median()\n",
    "Quant3= House_train_data.quantile(.80)\n",
    "IQR = Quant3 - Quant1\n",
    "QMIN = Quant1 - 1.5*IQR\n",
    "QMAX = Quant3 + 1.5*IQR"
   ]
  },
  {
   "cell_type": "code",
   "execution_count": 359,
   "id": "76779632",
   "metadata": {},
   "outputs": [
    {
     "name": "stdout",
     "output_type": "stream",
     "text": [
      "Quantile 1 = \n",
      " POSTED_BY               0.000000\n",
      "UNDER_CONSTRUCTION      0.000000\n",
      "RERA                    0.000000\n",
      "BHK_NO.                 2.000000\n",
      "BHK_OR_RK               1.000000\n",
      "SQUARE_FT             900.021130\n",
      "READY_TO_MOVE           1.000000\n",
      "RESALE                  1.000000\n",
      "LONGITUDE              18.452663\n",
      "LATITUDE               73.798100\n",
      "TARGET                 38.000000\n",
      "Name: 0.25, dtype: float64\n",
      "\n",
      "\n",
      "Quantile 2 = \n",
      "  POSTED_BY                1.000000\n",
      "UNDER_CONSTRUCTION       0.000000\n",
      "RERA                     0.000000\n",
      "BHK_NO.                  2.000000\n",
      "BHK_OR_RK                1.000000\n",
      "SQUARE_FT             1175.056750\n",
      "READY_TO_MOVE            1.000000\n",
      "RESALE                   1.000000\n",
      "LONGITUDE               20.750000\n",
      "LATITUDE                77.324137\n",
      "TARGET                  62.000000\n",
      "dtype: float64\n",
      "\n",
      "\n",
      "Quantile 3 = \n",
      " POSTED_BY                1.000000\n",
      "UNDER_CONSTRUCTION       0.000000\n",
      "RERA                     1.000000\n",
      "BHK_NO.                  3.000000\n",
      "BHK_OR_RK                1.000000\n",
      "SQUARE_FT             1665.080875\n",
      "READY_TO_MOVE            1.000000\n",
      "RESALE                   1.000000\n",
      "LONGITUDE               28.396092\n",
      "LATITUDE                78.436017\n",
      "TARGET                 120.000000\n",
      "Name: 0.8, dtype: float64\n",
      "\n",
      "\n",
      "Inter Quantile range = \n",
      " POSTED_BY               1.000000\n",
      "UNDER_CONSTRUCTION      0.000000\n",
      "RERA                    1.000000\n",
      "BHK_NO.                 1.000000\n",
      "BHK_OR_RK               0.000000\n",
      "SQUARE_FT             765.059745\n",
      "READY_TO_MOVE           0.000000\n",
      "RESALE                  0.000000\n",
      "LONGITUDE               9.943429\n",
      "LATITUDE                4.637917\n",
      "TARGET                 82.000000\n",
      "dtype: float64\n",
      "\n",
      "\n",
      "Q-MIN = \n",
      " POSTED_BY              -1.500000\n",
      "UNDER_CONSTRUCTION      0.000000\n",
      "RERA                   -1.500000\n",
      "BHK_NO.                 0.500000\n",
      "BHK_OR_RK               1.000000\n",
      "SQUARE_FT            -247.568489\n",
      "READY_TO_MOVE           1.000000\n",
      "RESALE                  1.000000\n",
      "LONGITUDE               3.537520\n",
      "LATITUDE               66.841225\n",
      "TARGET                -85.000000\n",
      "dtype: float64\n",
      "\n",
      "\n",
      "Q-MAX = \n",
      " POSTED_BY                2.500000\n",
      "UNDER_CONSTRUCTION       0.000000\n",
      "RERA                     2.500000\n",
      "BHK_NO.                  4.500000\n",
      "BHK_OR_RK                1.000000\n",
      "SQUARE_FT             2812.670493\n",
      "READY_TO_MOVE            1.000000\n",
      "RESALE                   1.000000\n",
      "LONGITUDE               43.311235\n",
      "LATITUDE                85.392893\n",
      "TARGET                 243.000000\n",
      "dtype: float64\n"
     ]
    }
   ],
   "source": [
    "print(\"Quantile 1 = \\n\",Quant1)\n",
    "print(\"\\n\\nQuantile 2 = \\n \",Quant2)\n",
    "print(\"\\n\\nQuantile 3 = \\n\",Quant3)\n",
    "print(\"\\n\\nInter Quantile range = \\n\",IQR)\n",
    "print(\"\\n\\nQ-MIN = \\n\",QMIN)\n",
    "print(\"\\n\\nQ-MAX = \\n\",QMAX)"
   ]
  },
  {
   "cell_type": "markdown",
   "id": "4b59c11c",
   "metadata": {},
   "source": [
    "## -Quartiles, which divide the data into 25% groups. The first quartile represents the data points that fall in the lowest 25%, the second quartile points fall between 25% and 50%, and so forth.\n",
    "\n",
    "## -Interquartile range, or IQR, which defines the range covered by 2nd and 3rd quartiles."
   ]
  },
  {
   "cell_type": "code",
   "execution_count": 360,
   "id": "ac455d9f",
   "metadata": {},
   "outputs": [
    {
     "data": {
      "text/html": [
       "<div>\n",
       "<style scoped>\n",
       "    .dataframe tbody tr th:only-of-type {\n",
       "        vertical-align: middle;\n",
       "    }\n",
       "\n",
       "    .dataframe tbody tr th {\n",
       "        vertical-align: top;\n",
       "    }\n",
       "\n",
       "    .dataframe thead th {\n",
       "        text-align: right;\n",
       "    }\n",
       "</style>\n",
       "<table border=\"1\" class=\"dataframe\">\n",
       "  <thead>\n",
       "    <tr style=\"text-align: right;\">\n",
       "      <th></th>\n",
       "      <th>POSTED_BY</th>\n",
       "      <th>UNDER_CONSTRUCTION</th>\n",
       "      <th>RERA</th>\n",
       "      <th>BHK_NO.</th>\n",
       "      <th>BHK_OR_RK</th>\n",
       "      <th>SQUARE_FT</th>\n",
       "      <th>READY_TO_MOVE</th>\n",
       "      <th>RESALE</th>\n",
       "      <th>ADDRESS</th>\n",
       "      <th>LONGITUDE</th>\n",
       "      <th>LATITUDE</th>\n",
       "      <th>TARGET</th>\n",
       "    </tr>\n",
       "  </thead>\n",
       "  <tbody>\n",
       "    <tr>\n",
       "      <th>0</th>\n",
       "      <td>0</td>\n",
       "      <td>0</td>\n",
       "      <td>0</td>\n",
       "      <td>2</td>\n",
       "      <td>1</td>\n",
       "      <td>1300.236407</td>\n",
       "      <td>1</td>\n",
       "      <td>1</td>\n",
       "      <td>Ksfc Layout,Bangalore</td>\n",
       "      <td>12.969910</td>\n",
       "      <td>77.597960</td>\n",
       "      <td>55.0</td>\n",
       "    </tr>\n",
       "    <tr>\n",
       "      <th>1</th>\n",
       "      <td>1</td>\n",
       "      <td>0</td>\n",
       "      <td>0</td>\n",
       "      <td>2</td>\n",
       "      <td>1</td>\n",
       "      <td>1275.000000</td>\n",
       "      <td>1</td>\n",
       "      <td>1</td>\n",
       "      <td>Vishweshwara Nagar,Mysore</td>\n",
       "      <td>12.274538</td>\n",
       "      <td>76.644605</td>\n",
       "      <td>51.0</td>\n",
       "    </tr>\n",
       "    <tr>\n",
       "      <th>2</th>\n",
       "      <td>0</td>\n",
       "      <td>0</td>\n",
       "      <td>0</td>\n",
       "      <td>2</td>\n",
       "      <td>1</td>\n",
       "      <td>933.159722</td>\n",
       "      <td>1</td>\n",
       "      <td>1</td>\n",
       "      <td>Jigani,Bangalore</td>\n",
       "      <td>12.778033</td>\n",
       "      <td>77.632191</td>\n",
       "      <td>43.0</td>\n",
       "    </tr>\n",
       "    <tr>\n",
       "      <th>3</th>\n",
       "      <td>0</td>\n",
       "      <td>0</td>\n",
       "      <td>1</td>\n",
       "      <td>2</td>\n",
       "      <td>1</td>\n",
       "      <td>929.921143</td>\n",
       "      <td>1</td>\n",
       "      <td>1</td>\n",
       "      <td>Sector-1 Vaishali,Ghaziabad</td>\n",
       "      <td>28.642300</td>\n",
       "      <td>77.344500</td>\n",
       "      <td>62.5</td>\n",
       "    </tr>\n",
       "    <tr>\n",
       "      <th>4</th>\n",
       "      <td>1</td>\n",
       "      <td>1</td>\n",
       "      <td>0</td>\n",
       "      <td>2</td>\n",
       "      <td>1</td>\n",
       "      <td>999.009247</td>\n",
       "      <td>0</td>\n",
       "      <td>1</td>\n",
       "      <td>New Town,Kolkata</td>\n",
       "      <td>22.592200</td>\n",
       "      <td>88.484911</td>\n",
       "      <td>60.5</td>\n",
       "    </tr>\n",
       "  </tbody>\n",
       "</table>\n",
       "</div>"
      ],
      "text/plain": [
       "   POSTED_BY  UNDER_CONSTRUCTION  RERA  BHK_NO.  BHK_OR_RK    SQUARE_FT  \\\n",
       "0          0                   0     0        2          1  1300.236407   \n",
       "1          1                   0     0        2          1  1275.000000   \n",
       "2          0                   0     0        2          1   933.159722   \n",
       "3          0                   0     1        2          1   929.921143   \n",
       "4          1                   1     0        2          1   999.009247   \n",
       "\n",
       "   READY_TO_MOVE  RESALE                      ADDRESS  LONGITUDE   LATITUDE  \\\n",
       "0              1       1        Ksfc Layout,Bangalore  12.969910  77.597960   \n",
       "1              1       1    Vishweshwara Nagar,Mysore  12.274538  76.644605   \n",
       "2              1       1             Jigani,Bangalore  12.778033  77.632191   \n",
       "3              1       1  Sector-1 Vaishali,Ghaziabad  28.642300  77.344500   \n",
       "4              0       1             New Town,Kolkata  22.592200  88.484911   \n",
       "\n",
       "   TARGET  \n",
       "0    55.0  \n",
       "1    51.0  \n",
       "2    43.0  \n",
       "3    62.5  \n",
       "4    60.5  "
      ]
     },
     "execution_count": 360,
     "metadata": {},
     "output_type": "execute_result"
    }
   ],
   "source": [
    "House_train_data.head()"
   ]
  },
  {
   "cell_type": "code",
   "execution_count": null,
   "id": "3956932e",
   "metadata": {},
   "outputs": [],
   "source": []
  },
  {
   "cell_type": "code",
   "execution_count": 361,
   "id": "bd810455",
   "metadata": {},
   "outputs": [],
   "source": [
    "House_train_data = House_train_data[(House_train_data.TARGET>QMIN.TARGET)&(House_train_data.TARGET<QMAX.TARGET)]"
   ]
  },
  {
   "cell_type": "code",
   "execution_count": 362,
   "id": "59ba38a8",
   "metadata": {},
   "outputs": [],
   "source": [
    "House_train_data = House_train_data[(House_train_data.SQUARE_FT>QMIN.SQUARE_FT)&(House_train_data.SQUARE_FT<QMAX.SQUARE_FT)]"
   ]
  },
  {
   "cell_type": "code",
   "execution_count": 363,
   "id": "056d1d97",
   "metadata": {},
   "outputs": [],
   "source": [
    "House_train_data = House_train_data[(House_train_data.LATITUDE>QMIN.LATITUDE)&(House_train_data.LATITUDE<QMAX.LATITUDE)]"
   ]
  },
  {
   "cell_type": "code",
   "execution_count": 364,
   "id": "bd91cbdb",
   "metadata": {},
   "outputs": [],
   "source": [
    "House_train_data = House_train_data[(House_train_data.LONGITUDE>QMIN.LONGITUDE)&(House_train_data.LONGITUDE<QMAX.LATITUDE)]"
   ]
  },
  {
   "cell_type": "code",
   "execution_count": 365,
   "id": "c7b43581",
   "metadata": {},
   "outputs": [
    {
     "data": {
      "text/plain": [
       "(24250, 12)"
      ]
     },
     "execution_count": 365,
     "metadata": {},
     "output_type": "execute_result"
    }
   ],
   "source": [
    "House_train_data.shape"
   ]
  },
  {
   "cell_type": "markdown",
   "id": "baaf6f6e",
   "metadata": {},
   "source": [
    "# Analysing the data through data Visualisation after the removal of outliers"
   ]
  },
  {
   "cell_type": "markdown",
   "id": "5ab1a761",
   "metadata": {},
   "source": [
    "## Distribution Plot"
   ]
  },
  {
   "cell_type": "code",
   "execution_count": 366,
   "id": "28322473",
   "metadata": {},
   "outputs": [
    {
     "data": {
      "text/plain": [
       "<seaborn.axisgrid.FacetGrid at 0x223c79183d0>"
      ]
     },
     "execution_count": 366,
     "metadata": {},
     "output_type": "execute_result"
    },
    {
     "data": {
      "image/png": "[encoded data removed]",
      "text/plain": [
       "<Figure size 360x360 with 1 Axes>"
      ]
     },
     "metadata": {
      "needs_background": "light"
     },
     "output_type": "display_data"
    }
   ],
   "source": [
    "plt.rcParams['axes.facecolor'] = \"pink\"\n",
    "sns.displot(House_train_data[\"TARGET\"])"
   ]
  },
  {
   "cell_type": "markdown",
   "id": "61518ec6",
   "metadata": {},
   "source": [
    "## Scatter Plot"
   ]
  },
  {
   "cell_type": "code",
   "execution_count": 367,
   "id": "994ac4c4",
   "metadata": {},
   "outputs": [
    {
     "data": {
      "text/plain": [
       "<AxesSubplot:xlabel='LONGITUDE', ylabel='LATITUDE'>"
      ]
     },
     "execution_count": 367,
     "metadata": {},
     "output_type": "execute_result"
    },
    {
     "data": {
      "image/png": "[encoded data removed]",
      "text/plain": [
       "<Figure size 864x576 with 1 Axes>"
      ]
     },
     "metadata": {
      "needs_background": "light"
     },
     "output_type": "display_data"
    }
   ],
   "source": [
    "plt.figure(figsize=(12,8))\n",
    "plt.rcParams['axes.facecolor'] = \"RosyBrown\"\n",
    "sns.scatterplot(x=\"LONGITUDE\", y=\"LATITUDE\", data=House_train_data, hue=\"TARGET\",palette = 'rainbow')"
   ]
  },
  {
   "cell_type": "markdown",
   "id": "013cc6f0",
   "metadata": {},
   "source": [
    "## Distribution Plot"
   ]
  },
  {
   "cell_type": "code",
   "execution_count": 368,
   "id": "ec60234a",
   "metadata": {},
   "outputs": [
    {
     "data": {
      "text/plain": [
       "<seaborn.axisgrid.FacetGrid at 0x223ce2911c0>"
      ]
     },
     "execution_count": 368,
     "metadata": {},
     "output_type": "execute_result"
    },
    {
     "data": {
      "image/png": "[encoded data removed]",
      "text/plain": [
       "<Figure size 360x360 with 1 Axes>"
      ]
     },
     "metadata": {
      "needs_background": "light"
     },
     "output_type": "display_data"
    }
   ],
   "source": [
    "sns.displot(House_train_data['SQUARE_FT'])"
   ]
  },
  {
   "cell_type": "markdown",
   "id": "ec87f4b3",
   "metadata": {},
   "source": [
    "# Heat Map\n",
    "## Heatmaps are very useful to find relations between two variables in a dataset. Heatmap can be easily produced using the ‘heatmap’ function provided by the seaborn package in python."
   ]
  },
  {
   "cell_type": "code",
   "execution_count": 369,
   "id": "475e3674",
   "metadata": {
    "scrolled": true
   },
   "outputs": [
    {
     "data": {
      "text/plain": [
       "<function matplotlib.pyplot.show(close=None, block=None)>"
      ]
     },
     "execution_count": 369,
     "metadata": {},
     "output_type": "execute_result"
    },
    {
     "data": {
      "image/png": "[encoded data removed]",
      "text/plain": [
       "<Figure size 720x432 with 2 Axes>"
      ]
     },
     "metadata": {
      "needs_background": "light"
     },
     "output_type": "display_data"
    }
   ],
   "source": [
    "plt.figure(figsize = (10,6))\n",
    "sns.heatmap(House_train_data.corr(), annot = True ,cmap='twilight')\n",
    "plt.title(' Heat for correlation \\n')\n",
    "plt.show"
   ]
  },
  {
   "cell_type": "markdown",
   "id": "2703ac8d",
   "metadata": {},
   "source": [
    "### - From the Heatmap graph we can clearly see that there is a strong negative relationship between 'READY_TO_MOVE' and 'UNDER_CONSTRUCTION' which leads to multicollinearity. So we will remove one of them.\n",
    "###  1. Since we have location based on the Longitude and Lattitude i.e why ADDRESS will be a wastaged attribute so now we can remove ADDRESS attribute too.\n",
    "###  2. From the Heatmap we can clearly see that attribute 'BHK_OR_RK' isn't affecting our Target price so there is not significant to take it as a parameter, so we will remove this also."
   ]
  },
  {
   "cell_type": "markdown",
   "id": "85399d4b",
   "metadata": {},
   "source": [
    "# Now we will remove \"READY_TO_MOVE\",\"ADDRESS\" and \"BHK_OR_RK\" from both Train and test data."
   ]
  },
  {
   "cell_type": "code",
   "execution_count": 370,
   "id": "9daaae70",
   "metadata": {},
   "outputs": [],
   "source": [
    "House_train_data = House_train_data.drop(['READY_TO_MOVE'],axis = 1, inplace=False)\n",
    "House_train_data = House_train_data.drop(['ADDRESS'],axis = 1, inplace=False)\n",
    "House_train_data = House_train_data.drop(['BHK_OR_RK'],axis = 1, inplace=False)\n",
    "\n",
    "House_test_data = House_test_data.drop(['READY_TO_MOVE'],axis = 1, inplace=False)\n",
    "House_test_data = House_test_data.drop(['ADDRESS'],axis = 1, inplace=False)\n",
    "House_test_data = House_test_data.drop(['BHK_OR_RK'],axis = 1, inplace=False)"
   ]
  },
  {
   "cell_type": "code",
   "execution_count": 371,
   "id": "4cefb565",
   "metadata": {},
   "outputs": [
    {
     "data": {
      "text/html": [
       "<div>\n",
       "<style scoped>\n",
       "    .dataframe tbody tr th:only-of-type {\n",
       "        vertical-align: middle;\n",
       "    }\n",
       "\n",
       "    .dataframe tbody tr th {\n",
       "        vertical-align: top;\n",
       "    }\n",
       "\n",
       "    .dataframe thead th {\n",
       "        text-align: right;\n",
       "    }\n",
       "</style>\n",
       "<table border=\"1\" class=\"dataframe\">\n",
       "  <thead>\n",
       "    <tr style=\"text-align: right;\">\n",
       "      <th></th>\n",
       "      <th>POSTED_BY</th>\n",
       "      <th>UNDER_CONSTRUCTION</th>\n",
       "      <th>RERA</th>\n",
       "      <th>BHK_NO.</th>\n",
       "      <th>SQUARE_FT</th>\n",
       "      <th>RESALE</th>\n",
       "      <th>LONGITUDE</th>\n",
       "      <th>LATITUDE</th>\n",
       "      <th>TARGET</th>\n",
       "    </tr>\n",
       "  </thead>\n",
       "  <tbody>\n",
       "    <tr>\n",
       "      <th>0</th>\n",
       "      <td>0</td>\n",
       "      <td>0</td>\n",
       "      <td>0</td>\n",
       "      <td>2</td>\n",
       "      <td>1300.236407</td>\n",
       "      <td>1</td>\n",
       "      <td>12.969910</td>\n",
       "      <td>77.597960</td>\n",
       "      <td>55.0</td>\n",
       "    </tr>\n",
       "    <tr>\n",
       "      <th>1</th>\n",
       "      <td>1</td>\n",
       "      <td>0</td>\n",
       "      <td>0</td>\n",
       "      <td>2</td>\n",
       "      <td>1275.000000</td>\n",
       "      <td>1</td>\n",
       "      <td>12.274538</td>\n",
       "      <td>76.644605</td>\n",
       "      <td>51.0</td>\n",
       "    </tr>\n",
       "    <tr>\n",
       "      <th>2</th>\n",
       "      <td>0</td>\n",
       "      <td>0</td>\n",
       "      <td>0</td>\n",
       "      <td>2</td>\n",
       "      <td>933.159722</td>\n",
       "      <td>1</td>\n",
       "      <td>12.778033</td>\n",
       "      <td>77.632191</td>\n",
       "      <td>43.0</td>\n",
       "    </tr>\n",
       "    <tr>\n",
       "      <th>3</th>\n",
       "      <td>0</td>\n",
       "      <td>0</td>\n",
       "      <td>1</td>\n",
       "      <td>2</td>\n",
       "      <td>929.921143</td>\n",
       "      <td>1</td>\n",
       "      <td>28.642300</td>\n",
       "      <td>77.344500</td>\n",
       "      <td>62.5</td>\n",
       "    </tr>\n",
       "    <tr>\n",
       "      <th>5</th>\n",
       "      <td>0</td>\n",
       "      <td>0</td>\n",
       "      <td>0</td>\n",
       "      <td>3</td>\n",
       "      <td>1250.000000</td>\n",
       "      <td>1</td>\n",
       "      <td>10.033280</td>\n",
       "      <td>76.282571</td>\n",
       "      <td>42.0</td>\n",
       "    </tr>\n",
       "  </tbody>\n",
       "</table>\n",
       "</div>"
      ],
      "text/plain": [
       "   POSTED_BY  UNDER_CONSTRUCTION  RERA  BHK_NO.    SQUARE_FT  RESALE  \\\n",
       "0          0                   0     0        2  1300.236407       1   \n",
       "1          1                   0     0        2  1275.000000       1   \n",
       "2          0                   0     0        2   933.159722       1   \n",
       "3          0                   0     1        2   929.921143       1   \n",
       "5          0                   0     0        3  1250.000000       1   \n",
       "\n",
       "   LONGITUDE   LATITUDE  TARGET  \n",
       "0  12.969910  77.597960    55.0  \n",
       "1  12.274538  76.644605    51.0  \n",
       "2  12.778033  77.632191    43.0  \n",
       "3  28.642300  77.344500    62.5  \n",
       "5  10.033280  76.282571    42.0  "
      ]
     },
     "execution_count": 371,
     "metadata": {},
     "output_type": "execute_result"
    }
   ],
   "source": [
    "House_train_data.head()"
   ]
  },
  {
   "cell_type": "code",
   "execution_count": 372,
   "id": "d7ffdc6b",
   "metadata": {},
   "outputs": [
    {
     "data": {
      "text/html": [
       "<div>\n",
       "<style scoped>\n",
       "    .dataframe tbody tr th:only-of-type {\n",
       "        vertical-align: middle;\n",
       "    }\n",
       "\n",
       "    .dataframe tbody tr th {\n",
       "        vertical-align: top;\n",
       "    }\n",
       "\n",
       "    .dataframe thead th {\n",
       "        text-align: right;\n",
       "    }\n",
       "</style>\n",
       "<table border=\"1\" class=\"dataframe\">\n",
       "  <thead>\n",
       "    <tr style=\"text-align: right;\">\n",
       "      <th></th>\n",
       "      <th>POSTED_BY</th>\n",
       "      <th>UNDER_CONSTRUCTION</th>\n",
       "      <th>RERA</th>\n",
       "      <th>BHK_NO.</th>\n",
       "      <th>SQUARE_FT</th>\n",
       "      <th>RESALE</th>\n",
       "      <th>LONGITUDE</th>\n",
       "      <th>LATITUDE</th>\n",
       "    </tr>\n",
       "  </thead>\n",
       "  <tbody>\n",
       "    <tr>\n",
       "      <th>0</th>\n",
       "      <td>0</td>\n",
       "      <td>0</td>\n",
       "      <td>0</td>\n",
       "      <td>1</td>\n",
       "      <td>545.171340</td>\n",
       "      <td>1</td>\n",
       "      <td>21.262000</td>\n",
       "      <td>73.047700</td>\n",
       "    </tr>\n",
       "    <tr>\n",
       "      <th>1</th>\n",
       "      <td>1</td>\n",
       "      <td>1</td>\n",
       "      <td>1</td>\n",
       "      <td>2</td>\n",
       "      <td>800.000000</td>\n",
       "      <td>0</td>\n",
       "      <td>18.966114</td>\n",
       "      <td>73.148278</td>\n",
       "    </tr>\n",
       "    <tr>\n",
       "      <th>2</th>\n",
       "      <td>1</td>\n",
       "      <td>0</td>\n",
       "      <td>0</td>\n",
       "      <td>2</td>\n",
       "      <td>1257.096513</td>\n",
       "      <td>1</td>\n",
       "      <td>22.592200</td>\n",
       "      <td>88.484911</td>\n",
       "    </tr>\n",
       "    <tr>\n",
       "      <th>3</th>\n",
       "      <td>1</td>\n",
       "      <td>0</td>\n",
       "      <td>0</td>\n",
       "      <td>3</td>\n",
       "      <td>1400.329489</td>\n",
       "      <td>1</td>\n",
       "      <td>26.988300</td>\n",
       "      <td>75.584600</td>\n",
       "    </tr>\n",
       "    <tr>\n",
       "      <th>4</th>\n",
       "      <td>0</td>\n",
       "      <td>0</td>\n",
       "      <td>0</td>\n",
       "      <td>1</td>\n",
       "      <td>430.477830</td>\n",
       "      <td>1</td>\n",
       "      <td>22.700000</td>\n",
       "      <td>72.870000</td>\n",
       "    </tr>\n",
       "  </tbody>\n",
       "</table>\n",
       "</div>"
      ],
      "text/plain": [
       "   POSTED_BY  UNDER_CONSTRUCTION  RERA  BHK_NO.    SQUARE_FT  RESALE  \\\n",
       "0          0                   0     0        1   545.171340       1   \n",
       "1          1                   1     1        2   800.000000       0   \n",
       "2          1                   0     0        2  1257.096513       1   \n",
       "3          1                   0     0        3  1400.329489       1   \n",
       "4          0                   0     0        1   430.477830       1   \n",
       "\n",
       "   LONGITUDE   LATITUDE  \n",
       "0  21.262000  73.047700  \n",
       "1  18.966114  73.148278  \n",
       "2  22.592200  88.484911  \n",
       "3  26.988300  75.584600  \n",
       "4  22.700000  72.870000  "
      ]
     },
     "execution_count": 372,
     "metadata": {},
     "output_type": "execute_result"
    }
   ],
   "source": [
    "House_test_data.head()"
   ]
  },
  {
   "cell_type": "code",
   "execution_count": 373,
   "id": "64f66616",
   "metadata": {},
   "outputs": [
    {
     "data": {
      "text/html": [
       "<div>\n",
       "<style scoped>\n",
       "    .dataframe tbody tr th:only-of-type {\n",
       "        vertical-align: middle;\n",
       "    }\n",
       "\n",
       "    .dataframe tbody tr th {\n",
       "        vertical-align: top;\n",
       "    }\n",
       "\n",
       "    .dataframe thead th {\n",
       "        text-align: right;\n",
       "    }\n",
       "</style>\n",
       "<table border=\"1\" class=\"dataframe\">\n",
       "  <thead>\n",
       "    <tr style=\"text-align: right;\">\n",
       "      <th></th>\n",
       "      <th>POSTED_BY</th>\n",
       "      <th>UNDER_CONSTRUCTION</th>\n",
       "      <th>RERA</th>\n",
       "      <th>BHK_NO.</th>\n",
       "      <th>SQUARE_FT</th>\n",
       "      <th>RESALE</th>\n",
       "      <th>LONGITUDE</th>\n",
       "      <th>LATITUDE</th>\n",
       "      <th>TARGET</th>\n",
       "    </tr>\n",
       "  </thead>\n",
       "  <tbody>\n",
       "    <tr>\n",
       "      <th>count</th>\n",
       "      <td>24250.000000</td>\n",
       "      <td>24250.000000</td>\n",
       "      <td>24250.000000</td>\n",
       "      <td>24250.000000</td>\n",
       "      <td>24250.000000</td>\n",
       "      <td>24250.000000</td>\n",
       "      <td>24250.000000</td>\n",
       "      <td>24250.000000</td>\n",
       "      <td>24250.000000</td>\n",
       "    </tr>\n",
       "    <tr>\n",
       "      <th>mean</th>\n",
       "      <td>0.641361</td>\n",
       "      <td>0.178887</td>\n",
       "      <td>0.340165</td>\n",
       "      <td>2.268000</td>\n",
       "      <td>1187.273433</td>\n",
       "      <td>0.931794</td>\n",
       "      <td>21.071443</td>\n",
       "      <td>76.377199</td>\n",
       "      <td>71.590731</td>\n",
       "    </tr>\n",
       "    <tr>\n",
       "      <th>std</th>\n",
       "      <td>0.524146</td>\n",
       "      <td>0.383265</td>\n",
       "      <td>0.473774</td>\n",
       "      <td>0.752229</td>\n",
       "      <td>467.515519</td>\n",
       "      <td>0.252105</td>\n",
       "      <td>6.163195</td>\n",
       "      <td>2.615878</td>\n",
       "      <td>47.925090</td>\n",
       "    </tr>\n",
       "    <tr>\n",
       "      <th>min</th>\n",
       "      <td>0.000000</td>\n",
       "      <td>0.000000</td>\n",
       "      <td>0.000000</td>\n",
       "      <td>1.000000</td>\n",
       "      <td>3.985594</td>\n",
       "      <td>0.000000</td>\n",
       "      <td>8.513294</td>\n",
       "      <td>69.104114</td>\n",
       "      <td>0.290000</td>\n",
       "    </tr>\n",
       "    <tr>\n",
       "      <th>25%</th>\n",
       "      <td>0.000000</td>\n",
       "      <td>0.000000</td>\n",
       "      <td>0.000000</td>\n",
       "      <td>2.000000</td>\n",
       "      <td>861.090454</td>\n",
       "      <td>1.000000</td>\n",
       "      <td>16.096661</td>\n",
       "      <td>73.803330</td>\n",
       "      <td>36.500000</td>\n",
       "    </tr>\n",
       "    <tr>\n",
       "      <th>50%</th>\n",
       "      <td>1.000000</td>\n",
       "      <td>0.000000</td>\n",
       "      <td>0.000000</td>\n",
       "      <td>2.000000</td>\n",
       "      <td>1135.070181</td>\n",
       "      <td>1.000000</td>\n",
       "      <td>19.304050</td>\n",
       "      <td>77.000000</td>\n",
       "      <td>58.500000</td>\n",
       "    </tr>\n",
       "    <tr>\n",
       "      <th>75%</th>\n",
       "      <td>1.000000</td>\n",
       "      <td>0.000000</td>\n",
       "      <td>1.000000</td>\n",
       "      <td>3.000000</td>\n",
       "      <td>1459.053123</td>\n",
       "      <td>1.000000</td>\n",
       "      <td>26.988300</td>\n",
       "      <td>77.651295</td>\n",
       "      <td>92.000000</td>\n",
       "    </tr>\n",
       "    <tr>\n",
       "      <th>max</th>\n",
       "      <td>2.000000</td>\n",
       "      <td>1.000000</td>\n",
       "      <td>1.000000</td>\n",
       "      <td>20.000000</td>\n",
       "      <td>2811.142346</td>\n",
       "      <td>1.000000</td>\n",
       "      <td>34.091110</td>\n",
       "      <td>85.383545</td>\n",
       "      <td>240.000000</td>\n",
       "    </tr>\n",
       "  </tbody>\n",
       "</table>\n",
       "</div>"
      ],
      "text/plain": [
       "          POSTED_BY  UNDER_CONSTRUCTION          RERA       BHK_NO.  \\\n",
       "count  24250.000000        24250.000000  24250.000000  24250.000000   \n",
       "mean       0.641361            0.178887      0.340165      2.268000   \n",
       "std        0.524146            0.383265      0.473774      0.752229   \n",
       "min        0.000000            0.000000      0.000000      1.000000   \n",
       "25%        0.000000            0.000000      0.000000      2.000000   \n",
       "50%        1.000000            0.000000      0.000000      2.000000   \n",
       "75%        1.000000            0.000000      1.000000      3.000000   \n",
       "max        2.000000            1.000000      1.000000     20.000000   \n",
       "\n",
       "          SQUARE_FT        RESALE     LONGITUDE      LATITUDE        TARGET  \n",
       "count  24250.000000  24250.000000  24250.000000  24250.000000  24250.000000  \n",
       "mean    1187.273433      0.931794     21.071443     76.377199     71.590731  \n",
       "std      467.515519      0.252105      6.163195      2.615878     47.925090  \n",
       "min        3.985594      0.000000      8.513294     69.104114      0.290000  \n",
       "25%      861.090454      1.000000     16.096661     73.803330     36.500000  \n",
       "50%     1135.070181      1.000000     19.304050     77.000000     58.500000  \n",
       "75%     1459.053123      1.000000     26.988300     77.651295     92.000000  \n",
       "max     2811.142346      1.000000     34.091110     85.383545    240.000000  "
      ]
     },
     "execution_count": 373,
     "metadata": {},
     "output_type": "execute_result"
    }
   ],
   "source": [
    "House_train_data.describe()"
   ]
  },
  {
   "cell_type": "code",
   "execution_count": 374,
   "id": "e677d1b7",
   "metadata": {},
   "outputs": [
    {
     "data": {
      "text/html": [
       "<div>\n",
       "<style scoped>\n",
       "    .dataframe tbody tr th:only-of-type {\n",
       "        vertical-align: middle;\n",
       "    }\n",
       "\n",
       "    .dataframe tbody tr th {\n",
       "        vertical-align: top;\n",
       "    }\n",
       "\n",
       "    .dataframe thead th {\n",
       "        text-align: right;\n",
       "    }\n",
       "</style>\n",
       "<table border=\"1\" class=\"dataframe\">\n",
       "  <thead>\n",
       "    <tr style=\"text-align: right;\">\n",
       "      <th></th>\n",
       "      <th>POSTED_BY</th>\n",
       "      <th>UNDER_CONSTRUCTION</th>\n",
       "      <th>RERA</th>\n",
       "      <th>BHK_NO.</th>\n",
       "      <th>SQUARE_FT</th>\n",
       "      <th>RESALE</th>\n",
       "      <th>LONGITUDE</th>\n",
       "      <th>LATITUDE</th>\n",
       "    </tr>\n",
       "  </thead>\n",
       "  <tbody>\n",
       "    <tr>\n",
       "      <th>count</th>\n",
       "      <td>68720.000000</td>\n",
       "      <td>68720.000000</td>\n",
       "      <td>68720.000000</td>\n",
       "      <td>68720.000000</td>\n",
       "      <td>6.872000e+04</td>\n",
       "      <td>68720.000000</td>\n",
       "      <td>68720.000000</td>\n",
       "      <td>68720.000000</td>\n",
       "    </tr>\n",
       "    <tr>\n",
       "      <th>mean</th>\n",
       "      <td>0.657203</td>\n",
       "      <td>0.176557</td>\n",
       "      <td>0.316531</td>\n",
       "      <td>2.388198</td>\n",
       "      <td>2.762419e+03</td>\n",
       "      <td>0.933498</td>\n",
       "      <td>21.288045</td>\n",
       "      <td>76.919388</td>\n",
       "    </tr>\n",
       "    <tr>\n",
       "      <th>std</th>\n",
       "      <td>0.514742</td>\n",
       "      <td>0.381296</td>\n",
       "      <td>0.465126</td>\n",
       "      <td>0.864577</td>\n",
       "      <td>1.640991e+05</td>\n",
       "      <td>0.249159</td>\n",
       "      <td>6.179034</td>\n",
       "      <td>10.100950</td>\n",
       "    </tr>\n",
       "    <tr>\n",
       "      <th>min</th>\n",
       "      <td>0.000000</td>\n",
       "      <td>0.000000</td>\n",
       "      <td>0.000000</td>\n",
       "      <td>1.000000</td>\n",
       "      <td>1.000000e+00</td>\n",
       "      <td>0.000000</td>\n",
       "      <td>-38.391261</td>\n",
       "      <td>-118.354100</td>\n",
       "    </tr>\n",
       "    <tr>\n",
       "      <th>25%</th>\n",
       "      <td>0.000000</td>\n",
       "      <td>0.000000</td>\n",
       "      <td>0.000000</td>\n",
       "      <td>2.000000</td>\n",
       "      <td>9.000310e+02</td>\n",
       "      <td>1.000000</td>\n",
       "      <td>18.452663</td>\n",
       "      <td>73.798100</td>\n",
       "    </tr>\n",
       "    <tr>\n",
       "      <th>50%</th>\n",
       "      <td>1.000000</td>\n",
       "      <td>0.000000</td>\n",
       "      <td>0.000000</td>\n",
       "      <td>2.000000</td>\n",
       "      <td>1.174982e+03</td>\n",
       "      <td>1.000000</td>\n",
       "      <td>20.933260</td>\n",
       "      <td>77.324966</td>\n",
       "    </tr>\n",
       "    <tr>\n",
       "      <th>75%</th>\n",
       "      <td>1.000000</td>\n",
       "      <td>0.000000</td>\n",
       "      <td>1.000000</td>\n",
       "      <td>3.000000</td>\n",
       "      <td>1.550265e+03</td>\n",
       "      <td>1.000000</td>\n",
       "      <td>26.888396</td>\n",
       "      <td>78.000723</td>\n",
       "    </tr>\n",
       "    <tr>\n",
       "      <th>max</th>\n",
       "      <td>2.000000</td>\n",
       "      <td>1.000000</td>\n",
       "      <td>1.000000</td>\n",
       "      <td>31.000000</td>\n",
       "      <td>4.016393e+07</td>\n",
       "      <td>1.000000</td>\n",
       "      <td>65.183330</td>\n",
       "      <td>175.278040</td>\n",
       "    </tr>\n",
       "  </tbody>\n",
       "</table>\n",
       "</div>"
      ],
      "text/plain": [
       "          POSTED_BY  UNDER_CONSTRUCTION          RERA       BHK_NO.  \\\n",
       "count  68720.000000        68720.000000  68720.000000  68720.000000   \n",
       "mean       0.657203            0.176557      0.316531      2.388198   \n",
       "std        0.514742            0.381296      0.465126      0.864577   \n",
       "min        0.000000            0.000000      0.000000      1.000000   \n",
       "25%        0.000000            0.000000      0.000000      2.000000   \n",
       "50%        1.000000            0.000000      0.000000      2.000000   \n",
       "75%        1.000000            0.000000      1.000000      3.000000   \n",
       "max        2.000000            1.000000      1.000000     31.000000   \n",
       "\n",
       "          SQUARE_FT        RESALE     LONGITUDE      LATITUDE  \n",
       "count  6.872000e+04  68720.000000  68720.000000  68720.000000  \n",
       "mean   2.762419e+03      0.933498     21.288045     76.919388  \n",
       "std    1.640991e+05      0.249159      6.179034     10.100950  \n",
       "min    1.000000e+00      0.000000    -38.391261   -118.354100  \n",
       "25%    9.000310e+02      1.000000     18.452663     73.798100  \n",
       "50%    1.174982e+03      1.000000     20.933260     77.324966  \n",
       "75%    1.550265e+03      1.000000     26.888396     78.000723  \n",
       "max    4.016393e+07      1.000000     65.183330    175.278040  "
      ]
     },
     "execution_count": 374,
     "metadata": {},
     "output_type": "execute_result"
    }
   ],
   "source": [
    "House_test_data.describe()"
   ]
  },
  {
   "cell_type": "markdown",
   "id": "a30e6393",
   "metadata": {},
   "source": [
    "# MODELING"
   ]
  },
  {
   "cell_type": "markdown",
   "id": "62d2749d",
   "metadata": {},
   "source": [
    "## Applying Linear Regression Model on the House Price Train data File"
   ]
  },
  {
   "cell_type": "code",
   "execution_count": 375,
   "id": "4e2c1c4d",
   "metadata": {},
   "outputs": [],
   "source": [
    "X_train = House_train_data.drop('TARGET', axis = 1).values\n",
    "Y_train = House_train_data['TARGET'].values\n",
    "\n",
    "from sklearn.model_selection import train_test_split\n",
    "X_train, X_test, Y_train , Y_test = train_test_split(X_train, Y_train ,test_size=0.1, random_state=0)"
   ]
  },
  {
   "cell_type": "code",
   "execution_count": 376,
   "id": "0e7499b7",
   "metadata": {},
   "outputs": [],
   "source": [
    "from sklearn.preprocessing import MinMaxScaler\n",
    "scaler = MinMaxScaler()"
   ]
  },
  {
   "cell_type": "code",
   "execution_count": 377,
   "id": "4b72e853",
   "metadata": {},
   "outputs": [],
   "source": [
    "X_train = scaler.fit_transform(X_train)\n",
    "X_test = scaler.fit_transform(X_test)"
   ]
  },
  {
   "cell_type": "code",
   "execution_count": 378,
   "id": "4dffdb80",
   "metadata": {},
   "outputs": [],
   "source": [
    "# Importing Linear Regression\n",
    "from sklearn.linear_model import LinearRegression\n",
    "LR = LinearRegression()"
   ]
  },
  {
   "cell_type": "code",
   "execution_count": 379,
   "id": "ebf38f0f",
   "metadata": {},
   "outputs": [
    {
     "data": {
      "text/plain": [
       "LinearRegression()"
      ]
     },
     "execution_count": 379,
     "metadata": {},
     "output_type": "execute_result"
    }
   ],
   "source": [
    "LR.fit(X_train,Y_train)"
   ]
  },
  {
   "cell_type": "code",
   "execution_count": 380,
   "id": "24bf8412",
   "metadata": {},
   "outputs": [
    {
     "name": "stdout",
     "output_type": "stream",
     "text": [
      "The intercept value = 34.01436223143887\n"
     ]
    }
   ],
   "source": [
    "print(\"The intercept value =\", LR.intercept_)"
   ]
  },
  {
   "cell_type": "code",
   "execution_count": 381,
   "id": "f8c6a23b",
   "metadata": {},
   "outputs": [
    {
     "name": "stdout",
     "output_type": "stream",
     "text": [
      "The coeffiecients are Theat 0 ,Theta 1, Theta 2 , Theta 3 = [ 44.73736782   3.4711549    6.66356155 148.34717312 105.94836093\n",
      "  12.6220286  -40.8688877  -59.32815402]\n"
     ]
    }
   ],
   "source": [
    "print(\"The coeffiecients are Theat 0 ,Theta 1, Theta 2 , Theta 3 =\", LR.coef_)"
   ]
  },
  {
   "cell_type": "code",
   "execution_count": 382,
   "id": "6c666e3c",
   "metadata": {},
   "outputs": [],
   "source": [
    "Predict = LR.predict(X_test)"
   ]
  },
  {
   "cell_type": "code",
   "execution_count": 383,
   "id": "29393c0d",
   "metadata": {},
   "outputs": [
    {
     "data": {
      "text/plain": [
       "array([110.61848344,  70.49758077,  53.51686777, ..., 120.20529015,\n",
       "       116.34288211, 104.43078494])"
      ]
     },
     "execution_count": 383,
     "metadata": {},
     "output_type": "execute_result"
    }
   ],
   "source": [
    "Predict"
   ]
  },
  {
   "cell_type": "code",
   "execution_count": 384,
   "id": "ce9edef4",
   "metadata": {},
   "outputs": [],
   "source": [
    "from sklearn.metrics import r2_score"
   ]
  },
  {
   "cell_type": "code",
   "execution_count": 385,
   "id": "d8671026",
   "metadata": {},
   "outputs": [
    {
     "data": {
      "text/plain": [
       "0.035235387013067165"
      ]
     },
     "execution_count": 385,
     "metadata": {},
     "output_type": "execute_result"
    }
   ],
   "source": [
    "r2_score(Y_test,Predict)"
   ]
  },
  {
   "cell_type": "code",
   "execution_count": 386,
   "id": "b8134808",
   "metadata": {},
   "outputs": [],
   "source": [
    "from sklearn.metrics import mean_absolute_error, max_error, mean_squared_error,r2_score"
   ]
  },
  {
   "cell_type": "code",
   "execution_count": 387,
   "id": "0cae468d",
   "metadata": {},
   "outputs": [
    {
     "name": "stdout",
     "output_type": "stream",
     "text": [
      "      Actual_value  Predicted value\n",
      "0            110.0       110.618483\n",
      "1             52.0        70.497581\n",
      "2             28.0        53.516868\n",
      "3            150.0       127.908138\n",
      "4             90.0       142.658157\n",
      "...            ...              ...\n",
      "2420         140.0       135.708165\n",
      "2421          92.0       115.540633\n",
      "2422          59.8       120.205290\n",
      "2423          95.0       116.342882\n",
      "2424          30.0       104.430785\n",
      "\n",
      "[2425 rows x 2 columns]\n"
     ]
    }
   ],
   "source": [
    "Y_predict = LR.predict(X_test).reshape(X_test.shape[0])\n",
    "\n",
    "\n",
    "predict_df = pd.DataFrame({ 'Actual_value': Y_test, 'Predicted value': Y_predict})\n",
    "print(predict_df)"
   ]
  },
  {
   "cell_type": "markdown",
   "id": "dda4f091",
   "metadata": {},
   "source": [
    "## MAE"
   ]
  },
  {
   "cell_type": "code",
   "execution_count": 388,
   "id": "46dfabb7",
   "metadata": {},
   "outputs": [
    {
     "data": {
      "text/plain": [
       "39.63279287283993"
      ]
     },
     "execution_count": 388,
     "metadata": {},
     "output_type": "execute_result"
    }
   ],
   "source": [
    "mean_absolute_error(y_true=predict_df['Actual_value'], y_pred=predict_df['Predicted value'])"
   ]
  },
  {
   "cell_type": "markdown",
   "id": "1a30a14d",
   "metadata": {},
   "source": [
    "## MSE"
   ]
  },
  {
   "cell_type": "code",
   "execution_count": 389,
   "id": "a5467ea7",
   "metadata": {},
   "outputs": [
    {
     "name": "stdout",
     "output_type": "stream",
     "text": [
      "2303.613972229608\n"
     ]
    }
   ],
   "source": [
    "print(mean_squared_error(y_true=predict_df['Actual_value'], y_pred=predict_df['Predicted value']))"
   ]
  },
  {
   "cell_type": "markdown",
   "id": "4f477bd6",
   "metadata": {},
   "source": [
    "## RMSE"
   ]
  },
  {
   "cell_type": "code",
   "execution_count": 390,
   "id": "14d6c65e",
   "metadata": {},
   "outputs": [
    {
     "name": "stdout",
     "output_type": "stream",
     "text": [
      "47.995978708946105\n"
     ]
    }
   ],
   "source": [
    "print(np.sqrt(mean_squared_error(y_true=predict_df['Actual_value'], y_pred=predict_df['Predicted value'])))"
   ]
  },
  {
   "cell_type": "markdown",
   "id": "82c0a052",
   "metadata": {},
   "source": [
    "## VARIANCE SCORE"
   ]
  },
  {
   "cell_type": "code",
   "execution_count": 391,
   "id": "66acac85",
   "metadata": {},
   "outputs": [
    {
     "data": {
      "text/plain": [
       "0.27416121499459556"
      ]
     },
     "execution_count": 391,
     "metadata": {},
     "output_type": "execute_result"
    }
   ],
   "source": [
    "from sklearn.metrics import explained_variance_score\n",
    "explained_variance_score(Y_test,Predict)"
   ]
  },
  {
   "cell_type": "markdown",
   "id": "f6d35344",
   "metadata": {},
   "source": [
    "## R2_SCORE"
   ]
  },
  {
   "cell_type": "code",
   "execution_count": 392,
   "id": "9fe61d05",
   "metadata": {},
   "outputs": [
    {
     "data": {
      "text/plain": [
       "0.035235387013067165"
      ]
     },
     "execution_count": 392,
     "metadata": {},
     "output_type": "execute_result"
    }
   ],
   "source": [
    "R_Squared = r2_score(Y_test,Predict)\n",
    "R_Squared"
   ]
  },
  {
   "cell_type": "markdown",
   "id": "882c06d2",
   "metadata": {},
   "source": [
    "# Now Applying Linear Regression Model on the House Price Test data File"
   ]
  },
  {
   "cell_type": "code",
   "execution_count": 393,
   "id": "5a0dead6",
   "metadata": {},
   "outputs": [],
   "source": [
    "House_test_data1 = House_test_data"
   ]
  },
  {
   "cell_type": "code",
   "execution_count": 394,
   "id": "dd2ea0d6",
   "metadata": {},
   "outputs": [],
   "source": [
    "Quant11 = House_test_data1.quantile(.35)\n",
    "Quant21 = House_test_data1.median()\n",
    "Quant31 = House_test_data1.quantile(.60)\n",
    "IQR1 = Quant31 - Quant11\n",
    "QMIN1 = Quant11 - 1.5*IQR1\n",
    "QMAX1 = Quant31 + 1.5*IQR1"
   ]
  },
  {
   "cell_type": "code",
   "execution_count": 395,
   "id": "1661deb5",
   "metadata": {},
   "outputs": [
    {
     "data": {
      "text/plain": [
       "(51687, 8)"
      ]
     },
     "execution_count": 395,
     "metadata": {},
     "output_type": "execute_result"
    }
   ],
   "source": [
    "House_test_data1 = House_test_data1[(House_test_data1.SQUARE_FT>QMIN1.SQUARE_FT)&(House_test_data1.SQUARE_FT<QMAX1.SQUARE_FT)]\n",
    "House_test_data1.shape"
   ]
  },
  {
   "cell_type": "code",
   "execution_count": 396,
   "id": "c39f7adc",
   "metadata": {},
   "outputs": [
    {
     "data": {
      "text/plain": [
       "(30668, 8)"
      ]
     },
     "execution_count": 396,
     "metadata": {},
     "output_type": "execute_result"
    }
   ],
   "source": [
    "House_test_data1 = House_test_data1[(House_test_data1.LONGITUDE>QMIN1.LONGITUDE)&(House_test_data1.LONGITUDE<QMAX1.LONGITUDE)]\n",
    "House_test_data1.shape"
   ]
  },
  {
   "cell_type": "code",
   "execution_count": 397,
   "id": "cec746ad",
   "metadata": {},
   "outputs": [
    {
     "data": {
      "text/plain": [
       "(12295, 8)"
      ]
     },
     "execution_count": 397,
     "metadata": {},
     "output_type": "execute_result"
    }
   ],
   "source": [
    "House_test_data1 = House_test_data1[(House_test_data1.LATITUDE>QMIN1.LATITUDE)&(House_test_data1.LATITUDE<QMAX1.LATITUDE)]\n",
    "House_test_data1.shape"
   ]
  },
  {
   "cell_type": "code",
   "execution_count": 398,
   "id": "1d1c9406",
   "metadata": {},
   "outputs": [
    {
     "data": {
      "text/plain": [
       "array([[ 1.      ,  0.      ,  0.      , ...,  1.      , 26.9883  ,\n",
       "        75.5846  ],\n",
       "       [ 1.      ,  0.      ,  0.      , ...,  1.      , 19.032025,\n",
       "        73.621535],\n",
       "       [ 1.      ,  0.      ,  0.      , ...,  1.      , 24.69028 ,\n",
       "        78.41889 ],\n",
       "       ...,\n",
       "       [ 1.      ,  0.      ,  0.      , ...,  1.      , 18.510861,\n",
       "        73.926175],\n",
       "       [ 1.      ,  0.      ,  0.      , ...,  1.      , 19.085225,\n",
       "        73.661835],\n",
       "       [ 1.      ,  0.      ,  0.      , ...,  1.      , 18.49667 ,\n",
       "        73.94167 ]])"
      ]
     },
     "execution_count": 398,
     "metadata": {},
     "output_type": "execute_result"
    }
   ],
   "source": [
    "X2_test = House_test_data1.values\n",
    "X2_test"
   ]
  },
  {
   "cell_type": "code",
   "execution_count": 399,
   "id": "2b277660",
   "metadata": {},
   "outputs": [],
   "source": [
    "X2_test = scaler.transform(X2_test)"
   ]
  },
  {
   "cell_type": "code",
   "execution_count": 400,
   "id": "2b6a596e",
   "metadata": {},
   "outputs": [],
   "source": [
    "Pred1 = LR.predict(X2_test)"
   ]
  },
  {
   "cell_type": "code",
   "execution_count": 401,
   "id": "0e94ce84",
   "metadata": {},
   "outputs": [
    {
     "data": {
      "text/plain": [
       "array([125.00098291,  60.97777236,  73.78911655, ...,  97.70006978,\n",
       "        98.65232479, 107.52692137])"
      ]
     },
     "execution_count": 401,
     "metadata": {},
     "output_type": "execute_result"
    }
   ],
   "source": [
    "Pred1"
   ]
  },
  {
   "cell_type": "code",
   "execution_count": 402,
   "id": "14d1b08e",
   "metadata": {},
   "outputs": [
    {
     "data": {
      "text/html": [
       "<div>\n",
       "<style scoped>\n",
       "    .dataframe tbody tr th:only-of-type {\n",
       "        vertical-align: middle;\n",
       "    }\n",
       "\n",
       "    .dataframe tbody tr th {\n",
       "        vertical-align: top;\n",
       "    }\n",
       "\n",
       "    .dataframe thead th {\n",
       "        text-align: right;\n",
       "    }\n",
       "</style>\n",
       "<table border=\"1\" class=\"dataframe\">\n",
       "  <thead>\n",
       "    <tr style=\"text-align: right;\">\n",
       "      <th></th>\n",
       "      <th>Target</th>\n",
       "    </tr>\n",
       "  </thead>\n",
       "  <tbody>\n",
       "    <tr>\n",
       "      <th>0</th>\n",
       "      <td>125.000983</td>\n",
       "    </tr>\n",
       "    <tr>\n",
       "      <th>1</th>\n",
       "      <td>60.977772</td>\n",
       "    </tr>\n",
       "    <tr>\n",
       "      <th>2</th>\n",
       "      <td>73.789117</td>\n",
       "    </tr>\n",
       "    <tr>\n",
       "      <th>3</th>\n",
       "      <td>85.507010</td>\n",
       "    </tr>\n",
       "    <tr>\n",
       "      <th>4</th>\n",
       "      <td>103.142295</td>\n",
       "    </tr>\n",
       "    <tr>\n",
       "      <th>...</th>\n",
       "      <td>...</td>\n",
       "    </tr>\n",
       "    <tr>\n",
       "      <th>12290</th>\n",
       "      <td>103.632541</td>\n",
       "    </tr>\n",
       "    <tr>\n",
       "      <th>12291</th>\n",
       "      <td>133.468203</td>\n",
       "    </tr>\n",
       "    <tr>\n",
       "      <th>12292</th>\n",
       "      <td>97.700070</td>\n",
       "    </tr>\n",
       "    <tr>\n",
       "      <th>12293</th>\n",
       "      <td>98.652325</td>\n",
       "    </tr>\n",
       "    <tr>\n",
       "      <th>12294</th>\n",
       "      <td>107.526921</td>\n",
       "    </tr>\n",
       "  </tbody>\n",
       "</table>\n",
       "<p>12295 rows × 1 columns</p>\n",
       "</div>"
      ],
      "text/plain": [
       "           Target\n",
       "0      125.000983\n",
       "1       60.977772\n",
       "2       73.789117\n",
       "3       85.507010\n",
       "4      103.142295\n",
       "...           ...\n",
       "12290  103.632541\n",
       "12291  133.468203\n",
       "12292   97.700070\n",
       "12293   98.652325\n",
       "12294  107.526921\n",
       "\n",
       "[12295 rows x 1 columns]"
      ]
     },
     "execution_count": 402,
     "metadata": {},
     "output_type": "execute_result"
    }
   ],
   "source": [
    "Testdata = pd.DataFrame({'Target':Pred1})\n",
    "Testdata"
   ]
  },
  {
   "cell_type": "code",
   "execution_count": 403,
   "id": "8abe2f83",
   "metadata": {},
   "outputs": [
    {
     "data": {
      "text/plain": [
       "<AxesSubplot:>"
      ]
     },
     "execution_count": 403,
     "metadata": {},
     "output_type": "execute_result"
    },
    {
     "data": {
      "image/png": "[encoded data removed]",
      "text/plain": [
       "<Figure size 432x288 with 1 Axes>"
      ]
     },
     "metadata": {
      "needs_background": "light"
     },
     "output_type": "display_data"
    }
   ],
   "source": [
    "Testdata.plot()"
   ]
  },
  {
   "cell_type": "markdown",
   "id": "ad593107",
   "metadata": {},
   "source": [
    "# Applying next model i.e Decision Tree on the House Price Train data File"
   ]
  },
  {
   "cell_type": "code",
   "execution_count": 404,
   "id": "123bde21",
   "metadata": {},
   "outputs": [],
   "source": [
    "#Importing Decision tree\n",
    "from sklearn.tree import DecisionTreeRegressor"
   ]
  },
  {
   "cell_type": "code",
   "execution_count": 405,
   "id": "1e20a03e",
   "metadata": {},
   "outputs": [],
   "source": [
    "decision_tree_model= DecisionTreeRegressor()"
   ]
  },
  {
   "cell_type": "code",
   "execution_count": 406,
   "id": "17b0252c",
   "metadata": {},
   "outputs": [],
   "source": [
    "decision_tree_model.fit(X_train,Y_train)\n",
    "y_prediction_tree=decision_tree_model.predict(X_train)"
   ]
  },
  {
   "cell_type": "code",
   "execution_count": 407,
   "id": "96c7823b",
   "metadata": {},
   "outputs": [
    {
     "data": {
      "text/plain": [
       "array([57.3, 42. , 30.7, ..., 30. , 73. , 33. ])"
      ]
     },
     "execution_count": 407,
     "metadata": {},
     "output_type": "execute_result"
    }
   ],
   "source": [
    "y_prediction_tree_test=decision_tree_model.predict(X_test)\n",
    "y_prediction_tree_test"
   ]
  },
  {
   "cell_type": "markdown",
   "id": "77ffc397",
   "metadata": {},
   "source": [
    "## RMSE and R2_square"
   ]
  },
  {
   "cell_type": "code",
   "execution_count": 408,
   "id": "3d3a5935",
   "metadata": {},
   "outputs": [
    {
     "name": "stdout",
     "output_type": "stream",
     "text": [
      "RMSE: 1.942251854665174\n",
      "R_square: 0.9983501066861239\n"
     ]
    }
   ],
   "source": [
    "print(\"RMSE:\",np.sqrt(mean_squared_error(Y_train,y_prediction_tree)))\n",
    "print(\"R_square:\",r2_score(Y_train,y_prediction_tree))"
   ]
  },
  {
   "cell_type": "markdown",
   "id": "79648320",
   "metadata": {},
   "source": [
    "# Now Applying Decision Tree Model on the House Price Test data File"
   ]
  },
  {
   "cell_type": "code",
   "execution_count": 409,
   "id": "0e4c67c0",
   "metadata": {},
   "outputs": [],
   "source": [
    "Pred2 = decision_tree_model.predict(X2_test)"
   ]
  },
  {
   "cell_type": "code",
   "execution_count": 410,
   "id": "79e3eb81",
   "metadata": {},
   "outputs": [
    {
     "data": {
      "text/plain": [
       "array([150.,  45.,  86., ...,  60.,  60.,  58.])"
      ]
     },
     "execution_count": 410,
     "metadata": {},
     "output_type": "execute_result"
    }
   ],
   "source": [
    "Pred2"
   ]
  },
  {
   "cell_type": "code",
   "execution_count": 411,
   "id": "6d815c16",
   "metadata": {},
   "outputs": [
    {
     "data": {
      "text/html": [
       "<div>\n",
       "<style scoped>\n",
       "    .dataframe tbody tr th:only-of-type {\n",
       "        vertical-align: middle;\n",
       "    }\n",
       "\n",
       "    .dataframe tbody tr th {\n",
       "        vertical-align: top;\n",
       "    }\n",
       "\n",
       "    .dataframe thead th {\n",
       "        text-align: right;\n",
       "    }\n",
       "</style>\n",
       "<table border=\"1\" class=\"dataframe\">\n",
       "  <thead>\n",
       "    <tr style=\"text-align: right;\">\n",
       "      <th></th>\n",
       "      <th>Target1</th>\n",
       "    </tr>\n",
       "  </thead>\n",
       "  <tbody>\n",
       "    <tr>\n",
       "      <th>0</th>\n",
       "      <td>150.0</td>\n",
       "    </tr>\n",
       "    <tr>\n",
       "      <th>1</th>\n",
       "      <td>45.0</td>\n",
       "    </tr>\n",
       "    <tr>\n",
       "      <th>2</th>\n",
       "      <td>86.0</td>\n",
       "    </tr>\n",
       "    <tr>\n",
       "      <th>3</th>\n",
       "      <td>32.0</td>\n",
       "    </tr>\n",
       "    <tr>\n",
       "      <th>4</th>\n",
       "      <td>55.0</td>\n",
       "    </tr>\n",
       "    <tr>\n",
       "      <th>...</th>\n",
       "      <td>...</td>\n",
       "    </tr>\n",
       "    <tr>\n",
       "      <th>12290</th>\n",
       "      <td>56.9</td>\n",
       "    </tr>\n",
       "    <tr>\n",
       "      <th>12291</th>\n",
       "      <td>26.0</td>\n",
       "    </tr>\n",
       "    <tr>\n",
       "      <th>12292</th>\n",
       "      <td>60.0</td>\n",
       "    </tr>\n",
       "    <tr>\n",
       "      <th>12293</th>\n",
       "      <td>60.0</td>\n",
       "    </tr>\n",
       "    <tr>\n",
       "      <th>12294</th>\n",
       "      <td>58.0</td>\n",
       "    </tr>\n",
       "  </tbody>\n",
       "</table>\n",
       "<p>12295 rows × 1 columns</p>\n",
       "</div>"
      ],
      "text/plain": [
       "       Target1\n",
       "0        150.0\n",
       "1         45.0\n",
       "2         86.0\n",
       "3         32.0\n",
       "4         55.0\n",
       "...        ...\n",
       "12290     56.9\n",
       "12291     26.0\n",
       "12292     60.0\n",
       "12293     60.0\n",
       "12294     58.0\n",
       "\n",
       "[12295 rows x 1 columns]"
      ]
     },
     "execution_count": 411,
     "metadata": {},
     "output_type": "execute_result"
    }
   ],
   "source": [
    "Testdata1 = pd.DataFrame({'Target1':Pred2})\n",
    "Testdata1"
   ]
  },
  {
   "cell_type": "code",
   "execution_count": 412,
   "id": "9846e15c",
   "metadata": {},
   "outputs": [
    {
     "data": {
      "text/plain": [
       "<AxesSubplot:>"
      ]
     },
     "execution_count": 412,
     "metadata": {},
     "output_type": "execute_result"
    },
    {
     "data": {
      "image/png": "[encoded data removed]",
      "text/plain": [
       "<Figure size 432x288 with 1 Axes>"
      ]
     },
     "metadata": {
      "needs_background": "light"
     },
     "output_type": "display_data"
    }
   ],
   "source": [
    "Testdata1.plot()"
   ]
  },
  {
   "cell_type": "markdown",
   "id": "720f2cd1",
   "metadata": {},
   "source": [
    "# Model Evaluation"
   ]
  },
  {
   "cell_type": "code",
   "execution_count": 413,
   "id": "6a992981",
   "metadata": {},
   "outputs": [
    {
     "name": "stdout",
     "output_type": "stream",
     "text": [
      "Linear Regression - R_Square:  0.035235387013067165\n",
      "Decison Tree - R_Square: 0.9983501066861239\n"
     ]
    }
   ],
   "source": [
    "print(\"Linear Regression - R_Square: \",r2_score(Y_test,Predict))\n",
    "print(\"Decison Tree - R_Square:\",r2_score(Y_train,y_prediction_tree))"
   ]
  },
  {
   "cell_type": "code",
   "execution_count": 414,
   "id": "5fcd886c",
   "metadata": {},
   "outputs": [
    {
     "name": "stdout",
     "output_type": "stream",
     "text": [
      "Linear Regression - RMSE 47.995978708946105\n",
      "Decison Tree - RMSE: 1.942251854665174\n"
     ]
    }
   ],
   "source": [
    "print(\"Linear Regression - RMSE\",np.sqrt(mean_squared_error(y_true=predict_df['Actual_value'], y_pred=predict_df['Predicted value'])))\n",
    "print(\"Decison Tree - RMSE:\",np.sqrt(mean_squared_error(Y_train,y_prediction_tree)))"
   ]
  },
  {
   "cell_type": "code",
   "execution_count": 457,
   "id": "1dc1d3b4",
   "metadata": {},
   "outputs": [
    {
     "data": {
      "image/png": "[encoded data removed]",
      "text/plain": [
       "<IPython.core.display.Image object>"
      ]
     },
     "execution_count": 457,
     "metadata": {},
     "output_type": "execute_result"
    }
   ],
   "source": [
    "display.Image(\"Compare.png\")"
   ]
  },
  {
   "cell_type": "markdown",
   "id": "1792e3df",
   "metadata": {},
   "source": [
    "# Conclusion"
   ]
  },
  {
   "cell_type": "markdown",
   "id": "bc3c3c72",
   "metadata": {},
   "source": [
    "After going through a bunch of processes, we have successfully built and evaluated on two models that is linear regression model and Decision Tree in python also, choosing the best model for our given dataset. But, this won’t stop here. Each and every model we built have their own statistical and mathematical concepts."
   ]
  },
  {
   "cell_type": "markdown",
   "id": "f37063d8",
   "metadata": {},
   "source": [
    "R-Squared is measurement of how well the dependent variable explains the variance of the independent variable. It is most popular evaluation metric for regression models. The ideal 'r2_score' of a model should be more than 0.70 (at least greater than 0.60).\n",
    "\n",
    "We can see that, our first model i.e. Linear Regression by rounding the output values will result in a score of 0.035, similarly while rounding the outout values for Decision Tree Model will result in a score of 0.998, which means our Decison Tree model performs well on our dataset as comparison to Linear Regression.\n",
    "\n",
    "Comparing RMSE, the model which is having the less RMSE, will be the best performing model. In our case, Linear Regression by rounding the output values will give 47.99 while the Decision Tree will give RMSE of 1.94. This implies Decision Tree performs better in this case as well.\n",
    "\n",
    "Coming to the case of choosing the best model, Decision Tree is the best performer and the Linear Regression is the worst performer."
   ]
  }
 ],
 "metadata": {
  "kernelspec": {
   "display_name": "Python 3",
   "language": "python",
   "name": "python3"
  },
  "language_info": {
   "codemirror_mode": {
    "name": "ipython",
    "version": 3
   },
   "file_extension": ".py",
   "mimetype": "text/x-python",
   "name": "python",
   "nbconvert_exporter": "python",
   "pygments_lexer": "ipython3",
   "version": "3.8.8"
  }
 },
 "nbformat": 4,
 "nbformat_minor": 5
}
